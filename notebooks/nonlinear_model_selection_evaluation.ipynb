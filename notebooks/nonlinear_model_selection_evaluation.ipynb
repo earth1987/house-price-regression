{
 "cells": [
  {
   "cell_type": "markdown",
   "id": "9bcadc61-26ac-46c0-af96-f59d65a6d532",
   "metadata": {},
   "source": [
    "# Non-linear models\n",
    "* Polynomial regression\n",
    "* Bagging: Random forest\n",
    "* K-nearest neighbours\n",
    "* Boosting: Gradient boosting\n",
    "* https://medium.com/@mohamadhasan.sarvandani/top-algorithms-of-non-linear-regression-in-machine-learning-proposed-python-library-and-python-c871752ddd81"
   ]
  }
 ],
 "metadata": {
  "kernelspec": {
   "display_name": "topic_analyses",
   "language": "python",
   "name": "topic_analyses"
  },
  "language_info": {
   "codemirror_mode": {
    "name": "ipython",
    "version": 3
   },
   "file_extension": ".py",
   "mimetype": "text/x-python",
   "name": "python",
   "nbconvert_exporter": "python",
   "pygments_lexer": "ipython3",
   "version": "3.11.5"
  }
 },
 "nbformat": 4,
 "nbformat_minor": 5
}
