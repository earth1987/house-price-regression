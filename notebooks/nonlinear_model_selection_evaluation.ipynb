{
 "cells": [
  {
   "cell_type": "markdown",
   "id": "1d5a06c9-094d-4ca6-bfef-bd4376fdce0b",
   "metadata": {},
   "source": [
    "# Predicting house prices using non-linear regression models\n",
    "\n",
    "The goal is to develop regression models to predict house prices based on their characteristics. \n",
    "\n",
    "**Why?**\n",
    "\n",
    "This offers benefits such as aiding real estate investment decisions, helping buyers and sellers make informed choices, assessing lending risks, analyzing market trends, and automating valuation processes. "
   ]
  },
  {
   "cell_type": "markdown",
   "id": "6f30ed4b-be0c-4f57-bb9b-aebb8ee718a8",
   "metadata": {},
   "source": [
    "# Scope\n",
    "\n",
    "The available data describes house sold in King County, USA from May 2014 to May 2015. It has been downloaded from [Kaggle](https://www.kaggle.com/datasets/harlfoxem/housesalesprediction/data). Two multiple linear regression algorithms will be tested, ordinary least squares and lasso regression. These will not be used to extrapolate beyond the range of the avaialble data. Instead predictions will be made for a randomly sampled holdout test set."
   ]
  },
  {
   "cell_type": "markdown",
   "id": "c4a61397-79f4-4db4-924e-b978ef9c4831",
   "metadata": {},
   "source": [
    "# Set-up"
   ]
  },
  {
   "cell_type": "markdown",
   "id": "4af0a363-e45e-4220-b40c-4c5a346b7226",
   "metadata": {},
   "source": [
    "## Dependencies"
   ]
  },
  {
   "cell_type": "code",
   "execution_count": 1,
   "id": "eaacd1ca-92f7-44ce-8c16-d09011df72a1",
   "metadata": {},
   "outputs": [],
   "source": [
    "import sys\n",
    "CONFIG_DIRECTORY = 'C:\\\\Users\\\\billy\\\\OneDrive\\\\Documents\\\\Python Scripts\\\\1. Portfolio\\\\house-price-regression\\\\house-price-regression'\n",
    "if CONFIG_DIRECTORY not in sys.path:\n",
    "    sys.path.insert(0, CONFIG_DIRECTORY)\n",
    "\n",
    "import ast\n",
    "import config\n",
    "import datetime\n",
    "import numpy as np\n",
    "import pandas as pd\n",
    "import scipy\n",
    "import seaborn as sns\n",
    "import statsmodels.api as sm\n",
    "from IPython.display import display\n",
    "from mlxtend.feature_selection import SequentialFeatureSelector as SFS\n",
    "from mlxtend.plotting import plot_sequential_feature_selection as plot_sfs\n",
    "from matplotlib import pyplot as plt\n",
    "from sklearn.linear_model import LinearRegression\n",
    "import warnings\n",
    "plt.style.use('seaborn-v0_8-muted')"
   ]
  },
  {
   "cell_type": "markdown",
   "id": "c7917321-6736-498a-8546-0d9c824416f6",
   "metadata": {},
   "source": [
    "## Import data"
   ]
  },
  {
   "cell_type": "code",
   "execution_count": 2,
   "id": "bd9bb65c-c2fd-49d6-930a-a35193220afc",
   "metadata": {},
   "outputs": [
    {
     "name": "stdout",
     "output_type": "stream",
     "text": [
      "Number of records: 14480\n",
      "Number of columns: 18\n"
     ]
    },
    {
     "data": {
      "text/html": [
       "<div>\n",
       "<style scoped>\n",
       "    .dataframe tbody tr th:only-of-type {\n",
       "        vertical-align: middle;\n",
       "    }\n",
       "\n",
       "    .dataframe tbody tr th {\n",
       "        vertical-align: top;\n",
       "    }\n",
       "\n",
       "    .dataframe thead th {\n",
       "        text-align: right;\n",
       "    }\n",
       "</style>\n",
       "<table border=\"1\" class=\"dataframe\">\n",
       "  <thead>\n",
       "    <tr style=\"text-align: right;\">\n",
       "      <th></th>\n",
       "      <th>bathrooms</th>\n",
       "      <th>bedrooms</th>\n",
       "      <th>condition</th>\n",
       "      <th>floors</th>\n",
       "      <th>grade</th>\n",
       "      <th>sqft_above</th>\n",
       "      <th>sqft_basement</th>\n",
       "      <th>sqft_living</th>\n",
       "      <th>sqft_living15</th>\n",
       "      <th>sqft_lot</th>\n",
       "      <th>sqft_lot15</th>\n",
       "      <th>view</th>\n",
       "      <th>waterfront</th>\n",
       "      <th>yr_built</th>\n",
       "      <th>yr_renovated</th>\n",
       "      <th>zipcode</th>\n",
       "      <th>price</th>\n",
       "      <th>zipcode_price</th>\n",
       "    </tr>\n",
       "  </thead>\n",
       "  <tbody>\n",
       "    <tr>\n",
       "      <th>0</th>\n",
       "      <td>1.75</td>\n",
       "      <td>3</td>\n",
       "      <td>4</td>\n",
       "      <td>1.5</td>\n",
       "      <td>8</td>\n",
       "      <td>1910</td>\n",
       "      <td>0</td>\n",
       "      <td>1910</td>\n",
       "      <td>1820</td>\n",
       "      <td>17003</td>\n",
       "      <td>14806</td>\n",
       "      <td>0</td>\n",
       "      <td>0</td>\n",
       "      <td>1963</td>\n",
       "      <td>0</td>\n",
       "      <td>98001</td>\n",
       "      <td>175000.0</td>\n",
       "      <td>9</td>\n",
       "    </tr>\n",
       "    <tr>\n",
       "      <th>1</th>\n",
       "      <td>1.75</td>\n",
       "      <td>2</td>\n",
       "      <td>4</td>\n",
       "      <td>1.0</td>\n",
       "      <td>7</td>\n",
       "      <td>1490</td>\n",
       "      <td>0</td>\n",
       "      <td>1490</td>\n",
       "      <td>2280</td>\n",
       "      <td>9874</td>\n",
       "      <td>9869</td>\n",
       "      <td>0</td>\n",
       "      <td>0</td>\n",
       "      <td>1963</td>\n",
       "      <td>0</td>\n",
       "      <td>98004</td>\n",
       "      <td>898000.0</td>\n",
       "      <td>9</td>\n",
       "    </tr>\n",
       "    <tr>\n",
       "      <th>2</th>\n",
       "      <td>1.75</td>\n",
       "      <td>4</td>\n",
       "      <td>4</td>\n",
       "      <td>1.0</td>\n",
       "      <td>8</td>\n",
       "      <td>1990</td>\n",
       "      <td>0</td>\n",
       "      <td>1990</td>\n",
       "      <td>2620</td>\n",
       "      <td>8900</td>\n",
       "      <td>8925</td>\n",
       "      <td>0</td>\n",
       "      <td>0</td>\n",
       "      <td>1972</td>\n",
       "      <td>0</td>\n",
       "      <td>98006</td>\n",
       "      <td>745000.0</td>\n",
       "      <td>9</td>\n",
       "    </tr>\n",
       "    <tr>\n",
       "      <th>3</th>\n",
       "      <td>2.50</td>\n",
       "      <td>4</td>\n",
       "      <td>3</td>\n",
       "      <td>2.0</td>\n",
       "      <td>8</td>\n",
       "      <td>2200</td>\n",
       "      <td>940</td>\n",
       "      <td>3140</td>\n",
       "      <td>2860</td>\n",
       "      <td>7260</td>\n",
       "      <td>8186</td>\n",
       "      <td>0</td>\n",
       "      <td>0</td>\n",
       "      <td>2004</td>\n",
       "      <td>0</td>\n",
       "      <td>98006</td>\n",
       "      <td>744000.0</td>\n",
       "      <td>9</td>\n",
       "    </tr>\n",
       "    <tr>\n",
       "      <th>4</th>\n",
       "      <td>3.50</td>\n",
       "      <td>5</td>\n",
       "      <td>3</td>\n",
       "      <td>2.0</td>\n",
       "      <td>11</td>\n",
       "      <td>3480</td>\n",
       "      <td>1320</td>\n",
       "      <td>4800</td>\n",
       "      <td>4050</td>\n",
       "      <td>14984</td>\n",
       "      <td>19009</td>\n",
       "      <td>2</td>\n",
       "      <td>0</td>\n",
       "      <td>1998</td>\n",
       "      <td>0</td>\n",
       "      <td>98006</td>\n",
       "      <td>1350000.0</td>\n",
       "      <td>9</td>\n",
       "    </tr>\n",
       "  </tbody>\n",
       "</table>\n",
       "</div>"
      ],
      "text/plain": [
       "   bathrooms  bedrooms  condition  floors  grade  sqft_above  sqft_basement  \\\n",
       "0       1.75         3          4     1.5      8        1910              0   \n",
       "1       1.75         2          4     1.0      7        1490              0   \n",
       "2       1.75         4          4     1.0      8        1990              0   \n",
       "3       2.50         4          3     2.0      8        2200            940   \n",
       "4       3.50         5          3     2.0     11        3480           1320   \n",
       "\n",
       "   sqft_living  sqft_living15  sqft_lot  sqft_lot15  view  waterfront  \\\n",
       "0         1910           1820     17003       14806     0           0   \n",
       "1         1490           2280      9874        9869     0           0   \n",
       "2         1990           2620      8900        8925     0           0   \n",
       "3         3140           2860      7260        8186     0           0   \n",
       "4         4800           4050     14984       19009     2           0   \n",
       "\n",
       "   yr_built  yr_renovated  zipcode      price  zipcode_price  \n",
       "0      1963             0    98001   175000.0              9  \n",
       "1      1963             0    98004   898000.0              9  \n",
       "2      1972             0    98006   745000.0              9  \n",
       "3      2004             0    98006   744000.0              9  \n",
       "4      1998             0    98006  1350000.0              9  "
      ]
     },
     "execution_count": 2,
     "metadata": {},
     "output_type": "execute_result"
    }
   ],
   "source": [
    "train_df = pd.read_csv(config.file_directory('cleaned') + 'train_df.csv')\n",
    "train_df = train_df.loc[:, train_df.columns!='yr_renovated_bool']\n",
    "print(f\"Number of records: {train_df.shape[0]}\")\n",
    "print(f\"Number of columns: {train_df.shape[1]}\")\n",
    "train_df.head()"
   ]
  },
  {
   "cell_type": "code",
   "execution_count": 3,
   "id": "8524ae2a-e6fd-4598-a824-b8e36ef88cfe",
   "metadata": {},
   "outputs": [
    {
     "name": "stdout",
     "output_type": "stream",
     "text": [
      "Number of records: 14480\n",
      "Number of columns: 18\n"
     ]
    },
    {
     "data": {
      "text/html": [
       "<div>\n",
       "<style scoped>\n",
       "    .dataframe tbody tr th:only-of-type {\n",
       "        vertical-align: middle;\n",
       "    }\n",
       "\n",
       "    .dataframe tbody tr th {\n",
       "        vertical-align: top;\n",
       "    }\n",
       "\n",
       "    .dataframe thead th {\n",
       "        text-align: right;\n",
       "    }\n",
       "</style>\n",
       "<table border=\"1\" class=\"dataframe\">\n",
       "  <thead>\n",
       "    <tr style=\"text-align: right;\">\n",
       "      <th></th>\n",
       "      <th>bathrooms_qt</th>\n",
       "      <th>bedrooms_qt</th>\n",
       "      <th>condition_qt</th>\n",
       "      <th>floors_qt</th>\n",
       "      <th>grade_qt</th>\n",
       "      <th>price_qt</th>\n",
       "      <th>sqft_above_qt</th>\n",
       "      <th>sqft_basement_qt</th>\n",
       "      <th>sqft_living15_qt</th>\n",
       "      <th>sqft_living_qt</th>\n",
       "      <th>sqft_lot15_qt</th>\n",
       "      <th>sqft_lot_qt</th>\n",
       "      <th>view_qt</th>\n",
       "      <th>waterfront</th>\n",
       "      <th>yr_built_qt</th>\n",
       "      <th>yr_renovated_qt</th>\n",
       "      <th>zipcode_price_qt</th>\n",
       "      <th>zipcode_qt</th>\n",
       "    </tr>\n",
       "  </thead>\n",
       "  <tbody>\n",
       "    <tr>\n",
       "      <th>0</th>\n",
       "      <td>0.520661</td>\n",
       "      <td>-0.332198</td>\n",
       "      <td>-0.434861</td>\n",
       "      <td>0.743040</td>\n",
       "      <td>-0.478025</td>\n",
       "      <td>-0.002509</td>\n",
       "      <td>0.700711</td>\n",
       "      <td>-5.199338</td>\n",
       "      <td>0.812654</td>\n",
       "      <td>0.368215</td>\n",
       "      <td>-0.698693</td>\n",
       "      <td>0.063183</td>\n",
       "      <td>-5.199338</td>\n",
       "      <td>0</td>\n",
       "      <td>0.868016</td>\n",
       "      <td>-5.199338</td>\n",
       "      <td>0.091712</td>\n",
       "      <td>-0.011291</td>\n",
       "    </tr>\n",
       "    <tr>\n",
       "      <th>1</th>\n",
       "      <td>-1.321946</td>\n",
       "      <td>-0.332198</td>\n",
       "      <td>-0.434861</td>\n",
       "      <td>-5.199338</td>\n",
       "      <td>-0.478025</td>\n",
       "      <td>-0.783330</td>\n",
       "      <td>-1.075207</td>\n",
       "      <td>-5.199338</td>\n",
       "      <td>-2.004234</td>\n",
       "      <td>-1.391202</td>\n",
       "      <td>-0.607463</td>\n",
       "      <td>-0.580895</td>\n",
       "      <td>-5.199338</td>\n",
       "      <td>0</td>\n",
       "      <td>-1.334066</td>\n",
       "      <td>2.325972</td>\n",
       "      <td>-0.364191</td>\n",
       "      <td>-0.199538</td>\n",
       "    </tr>\n",
       "    <tr>\n",
       "      <th>2</th>\n",
       "      <td>2.013671</td>\n",
       "      <td>1.602210</td>\n",
       "      <td>-0.434861</td>\n",
       "      <td>0.743040</td>\n",
       "      <td>1.634747</td>\n",
       "      <td>1.542950</td>\n",
       "      <td>2.175718</td>\n",
       "      <td>-5.199338</td>\n",
       "      <td>1.387908</td>\n",
       "      <td>1.887753</td>\n",
       "      <td>0.129582</td>\n",
       "      <td>0.163099</td>\n",
       "      <td>1.566990</td>\n",
       "      <td>0</td>\n",
       "      <td>1.192071</td>\n",
       "      <td>-5.199338</td>\n",
       "      <td>-0.364191</td>\n",
       "      <td>-0.160010</td>\n",
       "    </tr>\n",
       "    <tr>\n",
       "      <th>3</th>\n",
       "      <td>0.067799</td>\n",
       "      <td>0.686350</td>\n",
       "      <td>-0.434861</td>\n",
       "      <td>0.743040</td>\n",
       "      <td>0.421111</td>\n",
       "      <td>-0.689529</td>\n",
       "      <td>0.756333</td>\n",
       "      <td>-5.199338</td>\n",
       "      <td>0.621099</td>\n",
       "      <td>0.439001</td>\n",
       "      <td>0.298876</td>\n",
       "      <td>-0.035923</td>\n",
       "      <td>-5.199338</td>\n",
       "      <td>0</td>\n",
       "      <td>0.186756</td>\n",
       "      <td>-5.199338</td>\n",
       "      <td>-0.364191</td>\n",
       "      <td>-0.199538</td>\n",
       "    </tr>\n",
       "    <tr>\n",
       "      <th>4</th>\n",
       "      <td>0.520661</td>\n",
       "      <td>-0.332198</td>\n",
       "      <td>-0.434861</td>\n",
       "      <td>0.743040</td>\n",
       "      <td>-0.478025</td>\n",
       "      <td>0.397918</td>\n",
       "      <td>0.595437</td>\n",
       "      <td>-5.199338</td>\n",
       "      <td>0.584984</td>\n",
       "      <td>0.241963</td>\n",
       "      <td>-0.960196</td>\n",
       "      <td>-0.933654</td>\n",
       "      <td>-5.199338</td>\n",
       "      <td>0</td>\n",
       "      <td>0.821412</td>\n",
       "      <td>-5.199338</td>\n",
       "      <td>-0.364191</td>\n",
       "      <td>-0.238089</td>\n",
       "    </tr>\n",
       "  </tbody>\n",
       "</table>\n",
       "</div>"
      ],
      "text/plain": [
       "   bathrooms_qt  bedrooms_qt  condition_qt  floors_qt  grade_qt  price_qt  \\\n",
       "0      0.520661    -0.332198     -0.434861   0.743040 -0.478025 -0.002509   \n",
       "1     -1.321946    -0.332198     -0.434861  -5.199338 -0.478025 -0.783330   \n",
       "2      2.013671     1.602210     -0.434861   0.743040  1.634747  1.542950   \n",
       "3      0.067799     0.686350     -0.434861   0.743040  0.421111 -0.689529   \n",
       "4      0.520661    -0.332198     -0.434861   0.743040 -0.478025  0.397918   \n",
       "\n",
       "   sqft_above_qt  sqft_basement_qt  sqft_living15_qt  sqft_living_qt  \\\n",
       "0       0.700711         -5.199338          0.812654        0.368215   \n",
       "1      -1.075207         -5.199338         -2.004234       -1.391202   \n",
       "2       2.175718         -5.199338          1.387908        1.887753   \n",
       "3       0.756333         -5.199338          0.621099        0.439001   \n",
       "4       0.595437         -5.199338          0.584984        0.241963   \n",
       "\n",
       "   sqft_lot15_qt  sqft_lot_qt   view_qt  waterfront  yr_built_qt  \\\n",
       "0      -0.698693     0.063183 -5.199338           0     0.868016   \n",
       "1      -0.607463    -0.580895 -5.199338           0    -1.334066   \n",
       "2       0.129582     0.163099  1.566990           0     1.192071   \n",
       "3       0.298876    -0.035923 -5.199338           0     0.186756   \n",
       "4      -0.960196    -0.933654 -5.199338           0     0.821412   \n",
       "\n",
       "   yr_renovated_qt  zipcode_price_qt  zipcode_qt  \n",
       "0        -5.199338          0.091712   -0.011291  \n",
       "1         2.325972         -0.364191   -0.199538  \n",
       "2        -5.199338         -0.364191   -0.160010  \n",
       "3        -5.199338         -0.364191   -0.199538  \n",
       "4        -5.199338         -0.364191   -0.238089  "
      ]
     },
     "execution_count": 3,
     "metadata": {},
     "output_type": "execute_result"
    }
   ],
   "source": [
    "transformed_train_df = pd.read_csv(config.file_directory('cleaned') + 'transformed_train_df.csv')\n",
    "transformed_train_df = transformed_train_df.loc[:, transformed_train_df.columns!='yr_renovated_bool']\n",
    "print(f\"Number of records: {transformed_train_df.shape[0]}\")\n",
    "print(f\"Number of columns: {transformed_train_df.shape[1]}\")\n",
    "transformed_train_df.head()"
   ]
  },
  {
   "cell_type": "code",
   "execution_count": 4,
   "id": "73fbed1e-58af-468b-bbe8-c0e6228e5a5a",
   "metadata": {},
   "outputs": [
    {
     "name": "stdout",
     "output_type": "stream",
     "text": [
      "Number of records: 7133\n",
      "Number of columns: 18\n"
     ]
    },
    {
     "data": {
      "text/html": [
       "<div>\n",
       "<style scoped>\n",
       "    .dataframe tbody tr th:only-of-type {\n",
       "        vertical-align: middle;\n",
       "    }\n",
       "\n",
       "    .dataframe tbody tr th {\n",
       "        vertical-align: top;\n",
       "    }\n",
       "\n",
       "    .dataframe thead th {\n",
       "        text-align: right;\n",
       "    }\n",
       "</style>\n",
       "<table border=\"1\" class=\"dataframe\">\n",
       "  <thead>\n",
       "    <tr style=\"text-align: right;\">\n",
       "      <th></th>\n",
       "      <th>bathrooms</th>\n",
       "      <th>bedrooms</th>\n",
       "      <th>condition</th>\n",
       "      <th>floors</th>\n",
       "      <th>grade</th>\n",
       "      <th>sqft_above</th>\n",
       "      <th>sqft_basement</th>\n",
       "      <th>sqft_living</th>\n",
       "      <th>sqft_living15</th>\n",
       "      <th>sqft_lot</th>\n",
       "      <th>sqft_lot15</th>\n",
       "      <th>view</th>\n",
       "      <th>waterfront</th>\n",
       "      <th>yr_built</th>\n",
       "      <th>yr_renovated</th>\n",
       "      <th>zipcode</th>\n",
       "      <th>price</th>\n",
       "      <th>zipcode_price</th>\n",
       "    </tr>\n",
       "  </thead>\n",
       "  <tbody>\n",
       "    <tr>\n",
       "      <th>0</th>\n",
       "      <td>1.50</td>\n",
       "      <td>2</td>\n",
       "      <td>3</td>\n",
       "      <td>3.0</td>\n",
       "      <td>7</td>\n",
       "      <td>1430</td>\n",
       "      <td>0</td>\n",
       "      <td>1430</td>\n",
       "      <td>1430</td>\n",
       "      <td>1650</td>\n",
       "      <td>1650</td>\n",
       "      <td>0</td>\n",
       "      <td>0</td>\n",
       "      <td>1999</td>\n",
       "      <td>0</td>\n",
       "      <td>98125</td>\n",
       "      <td>297000.0</td>\n",
       "      <td>5</td>\n",
       "    </tr>\n",
       "    <tr>\n",
       "      <th>1</th>\n",
       "      <td>3.25</td>\n",
       "      <td>4</td>\n",
       "      <td>4</td>\n",
       "      <td>2.0</td>\n",
       "      <td>12</td>\n",
       "      <td>4670</td>\n",
       "      <td>0</td>\n",
       "      <td>4670</td>\n",
       "      <td>4230</td>\n",
       "      <td>51836</td>\n",
       "      <td>41075</td>\n",
       "      <td>0</td>\n",
       "      <td>0</td>\n",
       "      <td>1988</td>\n",
       "      <td>0</td>\n",
       "      <td>98005</td>\n",
       "      <td>1578000.0</td>\n",
       "      <td>9</td>\n",
       "    </tr>\n",
       "    <tr>\n",
       "      <th>2</th>\n",
       "      <td>0.75</td>\n",
       "      <td>2</td>\n",
       "      <td>3</td>\n",
       "      <td>1.0</td>\n",
       "      <td>7</td>\n",
       "      <td>1200</td>\n",
       "      <td>240</td>\n",
       "      <td>1440</td>\n",
       "      <td>1440</td>\n",
       "      <td>3700</td>\n",
       "      <td>4300</td>\n",
       "      <td>0</td>\n",
       "      <td>0</td>\n",
       "      <td>1914</td>\n",
       "      <td>0</td>\n",
       "      <td>98107</td>\n",
       "      <td>562100.0</td>\n",
       "      <td>8</td>\n",
       "    </tr>\n",
       "    <tr>\n",
       "      <th>3</th>\n",
       "      <td>1.00</td>\n",
       "      <td>2</td>\n",
       "      <td>4</td>\n",
       "      <td>1.0</td>\n",
       "      <td>8</td>\n",
       "      <td>1130</td>\n",
       "      <td>0</td>\n",
       "      <td>1130</td>\n",
       "      <td>1680</td>\n",
       "      <td>2640</td>\n",
       "      <td>3200</td>\n",
       "      <td>0</td>\n",
       "      <td>0</td>\n",
       "      <td>1927</td>\n",
       "      <td>0</td>\n",
       "      <td>98109</td>\n",
       "      <td>631500.0</td>\n",
       "      <td>8</td>\n",
       "    </tr>\n",
       "    <tr>\n",
       "      <th>4</th>\n",
       "      <td>2.50</td>\n",
       "      <td>4</td>\n",
       "      <td>3</td>\n",
       "      <td>2.0</td>\n",
       "      <td>9</td>\n",
       "      <td>3180</td>\n",
       "      <td>0</td>\n",
       "      <td>3180</td>\n",
       "      <td>2440</td>\n",
       "      <td>9603</td>\n",
       "      <td>15261</td>\n",
       "      <td>2</td>\n",
       "      <td>0</td>\n",
       "      <td>2002</td>\n",
       "      <td>0</td>\n",
       "      <td>98155</td>\n",
       "      <td>780000.0</td>\n",
       "      <td>1</td>\n",
       "    </tr>\n",
       "  </tbody>\n",
       "</table>\n",
       "</div>"
      ],
      "text/plain": [
       "   bathrooms  bedrooms  condition  floors  grade  sqft_above  sqft_basement  \\\n",
       "0       1.50         2          3     3.0      7        1430              0   \n",
       "1       3.25         4          4     2.0     12        4670              0   \n",
       "2       0.75         2          3     1.0      7        1200            240   \n",
       "3       1.00         2          4     1.0      8        1130              0   \n",
       "4       2.50         4          3     2.0      9        3180              0   \n",
       "\n",
       "   sqft_living  sqft_living15  sqft_lot  sqft_lot15  view  waterfront  \\\n",
       "0         1430           1430      1650        1650     0           0   \n",
       "1         4670           4230     51836       41075     0           0   \n",
       "2         1440           1440      3700        4300     0           0   \n",
       "3         1130           1680      2640        3200     0           0   \n",
       "4         3180           2440      9603       15261     2           0   \n",
       "\n",
       "   yr_built  yr_renovated  zipcode      price  zipcode_price  \n",
       "0      1999             0    98125   297000.0              5  \n",
       "1      1988             0    98005  1578000.0              9  \n",
       "2      1914             0    98107   562100.0              8  \n",
       "3      1927             0    98109   631500.0              8  \n",
       "4      2002             0    98155   780000.0              1  "
      ]
     },
     "execution_count": 4,
     "metadata": {},
     "output_type": "execute_result"
    }
   ],
   "source": [
    "test_df = pd.read_csv(config.file_directory('cleaned') + 'test_df.csv')\n",
    "test_df = test_df.loc[:, test_df.columns!='yr_renovated_bool']\n",
    "print(f\"Number of records: {test_df.shape[0]}\")\n",
    "print(f\"Number of columns: {test_df.shape[1]}\")\n",
    "test_df.head()"
   ]
  },
  {
   "cell_type": "markdown",
   "id": "edfca380-6c6a-49a2-81c3-5f41237ac974",
   "metadata": {},
   "source": [
    "# K-nearest neighbours"
   ]
  },
  {
   "cell_type": "markdown",
   "id": "f930a23a-a55a-48bd-bc07-c744b573141b",
   "metadata": {},
   "source": [
    "## Background"
   ]
  },
  {
   "cell_type": "markdown",
   "id": "1ab21cc9-4c88-4f42-a310-d70249418dd4",
   "metadata": {},
   "source": [
    "**References:**\n",
    "1. Practical Statistics for Data Scientists, Andrew Bruce & Peter Gedeck\n",
    "2. https://stanford.edu/~shervine/teaching/cs-229/cheatsheet-supervised-learning#other\n",
    "3. https://www.cs.cornell.edu/courses/cs4780/2018fa/lectures/lecturenote02_kNN.html\n",
    "4. https://ocw.mit.edu/courses/6-034-artificial-intelligence-fall-2010/resources/lecture-10-introduction-to-learning-nearest-neighbors/\n",
    "5. https://scikit-learn.org/stable/modules/neighbors.html#regression"
   ]
  },
  {
   "cell_type": "markdown",
   "id": "7d605f19-ee83-4ee6-9161-1237a07f7cfd",
   "metadata": {},
   "source": [
    "## Model training"
   ]
  },
  {
   "cell_type": "markdown",
   "id": "c39c67e2-c8d4-4de5-835c-c93566b485ae",
   "metadata": {},
   "source": [
    "## Model evaluation"
   ]
  },
  {
   "cell_type": "markdown",
   "id": "cedd4575-7a64-4c83-93e1-c9bed2c88978",
   "metadata": {},
   "source": [
    "## Conclusion"
   ]
  },
  {
   "cell_type": "markdown",
   "id": "55880587-ae4d-40c3-8278-0b1dd22c3656",
   "metadata": {},
   "source": [
    "# Random forest"
   ]
  },
  {
   "cell_type": "markdown",
   "id": "5c3e7363-73c8-4751-85fa-c4e1333cfc3e",
   "metadata": {},
   "source": [
    "## Background"
   ]
  },
  {
   "cell_type": "markdown",
   "id": "6156ca8f-9fec-4ed8-9c25-41922df0212a",
   "metadata": {},
   "source": [
    "**References:**\n",
    "1. Practical Statistics for Data Scientists, Andrew Bruce & Peter Gedeck\n",
    "2. https://www.cs.cornell.edu/courses/cs4780/2018fa/lectures/lecturenote17.html\n",
    "3. https://www.cs.cornell.edu/courses/cs4780/2018fa/lectures/lecturenote18.html\n",
    "4. https://stanford.edu/~shervine/teaching/cs-229/cheatsheet-supervised-learning#tree\n",
    "5. https://ocw.mit.edu/courses/6-034-artificial-intelligence-fall-2010/resources/lecture-11-learning-identification-trees-disorder/\n",
    "6. https://scikit-learn.org/stable/modules/ensemble.html#random-forests-and-other-randomized-tree-ensembles"
   ]
  },
  {
   "cell_type": "markdown",
   "id": "0a9c2eb9-7c75-4a7a-93a0-bed709a0d6f3",
   "metadata": {},
   "source": [
    "## Model training"
   ]
  },
  {
   "cell_type": "markdown",
   "id": "73dbffb0-ccd1-4f93-a09b-1fef82f613bd",
   "metadata": {},
   "source": [
    "## Model evaluation"
   ]
  },
  {
   "cell_type": "markdown",
   "id": "b88105c9-bb6f-4934-91e1-d3ded9cf434d",
   "metadata": {},
   "source": [
    "## Conclusion"
   ]
  },
  {
   "cell_type": "markdown",
   "id": "031390f9-fdd5-41c5-b1b9-cc01223e851f",
   "metadata": {},
   "source": [
    "# Gradient boosting"
   ]
  },
  {
   "cell_type": "markdown",
   "id": "44bb0c2c-a8eb-4d92-bb62-be699b5cc398",
   "metadata": {},
   "source": [
    "## Background\n",
    "\n",
    "**References**\n",
    "1. Practical Statistics for Data Scientists, Andrew Bruce & Peter Gedeck\n",
    "2. https://stanford.edu/~shervine/teaching/cs-229/cheatsheet-supervised-learning#tree\n",
    "3. https://www.cs.cornell.edu/courses/cs4780/2018fa/lectures/lecturenote19.html\n",
    "4. https://ocw.mit.edu/courses/6-034-artificial-intelligence-fall-2010/resources/lecture-17-learning-boosting/\n",
    "5. https://scikit-learn.org/stable/modules/ensemble.html#gradient-boosted-trees\n",
    "6. https://xgboost.ai/"
   ]
  },
  {
   "cell_type": "markdown",
   "id": "b8a8873c-c499-4c57-b5a3-7124d98bb52c",
   "metadata": {},
   "source": [
    "## Model training"
   ]
  },
  {
   "cell_type": "markdown",
   "id": "a94980af-72c7-4c2d-b15e-de3367eee019",
   "metadata": {},
   "source": [
    "## Model evaluation"
   ]
  },
  {
   "cell_type": "markdown",
   "id": "3df851f7-f38d-4783-b3a3-c7a5438993f9",
   "metadata": {},
   "source": [
    "## Conclusion"
   ]
  },
  {
   "cell_type": "markdown",
   "id": "7b9b54d0-b8d8-45e5-9bed-c83d517038a4",
   "metadata": {},
   "source": [
    "# Polynomial regression"
   ]
  },
  {
   "cell_type": "markdown",
   "id": "e6ab1781-3367-4368-964a-d0f31562149a",
   "metadata": {},
   "source": [
    "## Background"
   ]
  },
  {
   "cell_type": "markdown",
   "id": "8e2bb863-c8d3-4dca-9f55-f5b42673195b",
   "metadata": {},
   "source": [
    "**References**\n",
    "1. Practical Statistics for Data Scientists, Andrew Bruce & Peter Gedeck\n",
    "2. https://scikit-learn.org/stable/modules/preprocessing.html#polynomial-features"
   ]
  },
  {
   "cell_type": "markdown",
   "id": "61b7dd0b-42e5-4da7-a958-0a23b311f8b5",
   "metadata": {},
   "source": [
    "## Model training"
   ]
  },
  {
   "cell_type": "markdown",
   "id": "d8cd2374-2899-46de-a347-640004be1ada",
   "metadata": {},
   "source": [
    "## Model evaluation"
   ]
  },
  {
   "cell_type": "markdown",
   "id": "9ae6d8fb-93c2-4324-861d-89273e0515bf",
   "metadata": {},
   "source": [
    "## Conclusion"
   ]
  }
 ],
 "metadata": {
  "kernelspec": {
   "display_name": "topic_analyses",
   "language": "python",
   "name": "topic_analyses"
  },
  "language_info": {
   "codemirror_mode": {
    "name": "ipython",
    "version": 3
   },
   "file_extension": ".py",
   "mimetype": "text/x-python",
   "name": "python",
   "nbconvert_exporter": "python",
   "pygments_lexer": "ipython3",
   "version": "3.11.5"
  }
 },
 "nbformat": 4,
 "nbformat_minor": 5
}
