{
 "cells": [
  {
   "cell_type": "markdown",
   "id": "1d5a06c9-094d-4ca6-bfef-bd4376fdce0b",
   "metadata": {},
   "source": [
    "# Predicting house prices using non-linear regression models\n",
    "\n",
    "The goal is to develop regression models to predict house prices based on their characteristics. \n",
    "\n",
    "**Why?**\n",
    "\n",
    "This offers benefits such as aiding real estate investment decisions, helping buyers and sellers make informed choices, assessing lending risks, analyzing market trends, and automating valuation processes. "
   ]
  },
  {
   "cell_type": "markdown",
   "id": "6f30ed4b-be0c-4f57-bb9b-aebb8ee718a8",
   "metadata": {},
   "source": [
    "# Scope\n",
    "\n",
    "The available data describes house sold in King County, USA from May 2014 to May 2015. It has been downloaded from [Kaggle](https://www.kaggle.com/datasets/harlfoxem/housesalesprediction/data). Two multiple linear regression algorithms will be tested, ordinary least squares and lasso regression. These will not be used to extrapolate beyond the range of the avaialble data. Instead predictions will be made for a randomly sampled holdout test set."
   ]
  },
  {
   "cell_type": "markdown",
   "id": "c4a61397-79f4-4db4-924e-b978ef9c4831",
   "metadata": {},
   "source": [
    "# Set-up"
   ]
  },
  {
   "cell_type": "markdown",
   "id": "4af0a363-e45e-4220-b40c-4c5a346b7226",
   "metadata": {},
   "source": [
    "## Dependencies"
   ]
  },
  {
   "cell_type": "code",
   "execution_count": 1,
   "id": "eaacd1ca-92f7-44ce-8c16-d09011df72a1",
   "metadata": {},
   "outputs": [],
   "source": [
    "import sys\n",
    "CONFIG_DIRECTORY = 'C:\\\\Users\\\\billy\\\\OneDrive\\\\Documents\\\\Python Scripts\\\\1. Portfolio\\\\house-price-regression\\\\house-price-regression'\n",
    "if CONFIG_DIRECTORY not in sys.path:\n",
    "    sys.path.insert(0, CONFIG_DIRECTORY)\n",
    "\n",
    "import ast\n",
    "import config\n",
    "import datetime\n",
    "import numpy as np\n",
    "import pandas as pd\n",
    "import scipy\n",
    "import seaborn as sns\n",
    "import statsmodels.api as sm\n",
    "from IPython.display import display\n",
    "from mlxtend.feature_selection import SequentialFeatureSelector as SFS\n",
    "from mlxtend.plotting import plot_sequential_feature_selection as plot_sfs\n",
    "from matplotlib import pyplot as plt\n",
    "from sklearn.linear_model import LinearRegression\n",
    "from sklearn.pipeline import Pipeline\n",
    "from sklearn.preprocessing import QuantileTransformer\n",
    "from sklearn.preprocessing import StandardScaler\n",
    "from sklearn.neighbors import KNeighborsRegressor\n",
    "from sklearn.model_selection import GridSearchCV\n",
    "from sklearn.metrics import r2_score\n",
    "from sklearn.metrics import mean_absolute_error\n",
    "from sklearn.metrics import mean_squared_error\n",
    "import warnings\n",
    "plt.style.use('seaborn-v0_8-muted')"
   ]
  },
  {
   "cell_type": "markdown",
   "id": "c7917321-6736-498a-8546-0d9c824416f6",
   "metadata": {},
   "source": [
    "## Import data"
   ]
  },
  {
   "cell_type": "code",
   "execution_count": 2,
   "id": "bd9bb65c-c2fd-49d6-930a-a35193220afc",
   "metadata": {},
   "outputs": [
    {
     "name": "stdout",
     "output_type": "stream",
     "text": [
      "Number of records: 14480\n",
      "Number of columns: 18\n"
     ]
    },
    {
     "data": {
      "text/html": [
       "<div>\n",
       "<style scoped>\n",
       "    .dataframe tbody tr th:only-of-type {\n",
       "        vertical-align: middle;\n",
       "    }\n",
       "\n",
       "    .dataframe tbody tr th {\n",
       "        vertical-align: top;\n",
       "    }\n",
       "\n",
       "    .dataframe thead th {\n",
       "        text-align: right;\n",
       "    }\n",
       "</style>\n",
       "<table border=\"1\" class=\"dataframe\">\n",
       "  <thead>\n",
       "    <tr style=\"text-align: right;\">\n",
       "      <th></th>\n",
       "      <th>bathrooms</th>\n",
       "      <th>bedrooms</th>\n",
       "      <th>condition</th>\n",
       "      <th>floors</th>\n",
       "      <th>grade</th>\n",
       "      <th>sqft_above</th>\n",
       "      <th>sqft_basement</th>\n",
       "      <th>sqft_living</th>\n",
       "      <th>sqft_living15</th>\n",
       "      <th>sqft_lot</th>\n",
       "      <th>sqft_lot15</th>\n",
       "      <th>view</th>\n",
       "      <th>waterfront</th>\n",
       "      <th>yr_built</th>\n",
       "      <th>yr_renovated</th>\n",
       "      <th>zipcode</th>\n",
       "      <th>price</th>\n",
       "      <th>zipcode_price</th>\n",
       "    </tr>\n",
       "  </thead>\n",
       "  <tbody>\n",
       "    <tr>\n",
       "      <th>0</th>\n",
       "      <td>1.75</td>\n",
       "      <td>3</td>\n",
       "      <td>4</td>\n",
       "      <td>1.5</td>\n",
       "      <td>8</td>\n",
       "      <td>1910</td>\n",
       "      <td>0</td>\n",
       "      <td>1910</td>\n",
       "      <td>1820</td>\n",
       "      <td>17003</td>\n",
       "      <td>14806</td>\n",
       "      <td>0</td>\n",
       "      <td>0</td>\n",
       "      <td>1963</td>\n",
       "      <td>0</td>\n",
       "      <td>98001</td>\n",
       "      <td>175000.0</td>\n",
       "      <td>9</td>\n",
       "    </tr>\n",
       "    <tr>\n",
       "      <th>1</th>\n",
       "      <td>1.75</td>\n",
       "      <td>2</td>\n",
       "      <td>4</td>\n",
       "      <td>1.0</td>\n",
       "      <td>7</td>\n",
       "      <td>1490</td>\n",
       "      <td>0</td>\n",
       "      <td>1490</td>\n",
       "      <td>2280</td>\n",
       "      <td>9874</td>\n",
       "      <td>9869</td>\n",
       "      <td>0</td>\n",
       "      <td>0</td>\n",
       "      <td>1963</td>\n",
       "      <td>0</td>\n",
       "      <td>98004</td>\n",
       "      <td>898000.0</td>\n",
       "      <td>9</td>\n",
       "    </tr>\n",
       "    <tr>\n",
       "      <th>2</th>\n",
       "      <td>1.75</td>\n",
       "      <td>4</td>\n",
       "      <td>4</td>\n",
       "      <td>1.0</td>\n",
       "      <td>8</td>\n",
       "      <td>1990</td>\n",
       "      <td>0</td>\n",
       "      <td>1990</td>\n",
       "      <td>2620</td>\n",
       "      <td>8900</td>\n",
       "      <td>8925</td>\n",
       "      <td>0</td>\n",
       "      <td>0</td>\n",
       "      <td>1972</td>\n",
       "      <td>0</td>\n",
       "      <td>98006</td>\n",
       "      <td>745000.0</td>\n",
       "      <td>9</td>\n",
       "    </tr>\n",
       "    <tr>\n",
       "      <th>3</th>\n",
       "      <td>2.50</td>\n",
       "      <td>4</td>\n",
       "      <td>3</td>\n",
       "      <td>2.0</td>\n",
       "      <td>8</td>\n",
       "      <td>2200</td>\n",
       "      <td>940</td>\n",
       "      <td>3140</td>\n",
       "      <td>2860</td>\n",
       "      <td>7260</td>\n",
       "      <td>8186</td>\n",
       "      <td>0</td>\n",
       "      <td>0</td>\n",
       "      <td>2004</td>\n",
       "      <td>0</td>\n",
       "      <td>98006</td>\n",
       "      <td>744000.0</td>\n",
       "      <td>9</td>\n",
       "    </tr>\n",
       "    <tr>\n",
       "      <th>4</th>\n",
       "      <td>3.50</td>\n",
       "      <td>5</td>\n",
       "      <td>3</td>\n",
       "      <td>2.0</td>\n",
       "      <td>11</td>\n",
       "      <td>3480</td>\n",
       "      <td>1320</td>\n",
       "      <td>4800</td>\n",
       "      <td>4050</td>\n",
       "      <td>14984</td>\n",
       "      <td>19009</td>\n",
       "      <td>2</td>\n",
       "      <td>0</td>\n",
       "      <td>1998</td>\n",
       "      <td>0</td>\n",
       "      <td>98006</td>\n",
       "      <td>1350000.0</td>\n",
       "      <td>9</td>\n",
       "    </tr>\n",
       "  </tbody>\n",
       "</table>\n",
       "</div>"
      ],
      "text/plain": [
       "   bathrooms  bedrooms  condition  floors  grade  sqft_above  sqft_basement  \\\n",
       "0       1.75         3          4     1.5      8        1910              0   \n",
       "1       1.75         2          4     1.0      7        1490              0   \n",
       "2       1.75         4          4     1.0      8        1990              0   \n",
       "3       2.50         4          3     2.0      8        2200            940   \n",
       "4       3.50         5          3     2.0     11        3480           1320   \n",
       "\n",
       "   sqft_living  sqft_living15  sqft_lot  sqft_lot15  view  waterfront  \\\n",
       "0         1910           1820     17003       14806     0           0   \n",
       "1         1490           2280      9874        9869     0           0   \n",
       "2         1990           2620      8900        8925     0           0   \n",
       "3         3140           2860      7260        8186     0           0   \n",
       "4         4800           4050     14984       19009     2           0   \n",
       "\n",
       "   yr_built  yr_renovated  zipcode      price  zipcode_price  \n",
       "0      1963             0    98001   175000.0              9  \n",
       "1      1963             0    98004   898000.0              9  \n",
       "2      1972             0    98006   745000.0              9  \n",
       "3      2004             0    98006   744000.0              9  \n",
       "4      1998             0    98006  1350000.0              9  "
      ]
     },
     "execution_count": 2,
     "metadata": {},
     "output_type": "execute_result"
    }
   ],
   "source": [
    "train_df = pd.read_csv(config.file_directory('cleaned') + 'train_df.csv')\n",
    "train_df = train_df.loc[:, train_df.columns!='yr_renovated_bool']\n",
    "print(f\"Number of records: {train_df.shape[0]}\")\n",
    "print(f\"Number of columns: {train_df.shape[1]}\")\n",
    "train_df.head()"
   ]
  },
  {
   "cell_type": "code",
   "execution_count": 3,
   "id": "8524ae2a-e6fd-4598-a824-b8e36ef88cfe",
   "metadata": {},
   "outputs": [
    {
     "name": "stdout",
     "output_type": "stream",
     "text": [
      "Number of records: 14480\n",
      "Number of columns: 18\n"
     ]
    },
    {
     "data": {
      "text/html": [
       "<div>\n",
       "<style scoped>\n",
       "    .dataframe tbody tr th:only-of-type {\n",
       "        vertical-align: middle;\n",
       "    }\n",
       "\n",
       "    .dataframe tbody tr th {\n",
       "        vertical-align: top;\n",
       "    }\n",
       "\n",
       "    .dataframe thead th {\n",
       "        text-align: right;\n",
       "    }\n",
       "</style>\n",
       "<table border=\"1\" class=\"dataframe\">\n",
       "  <thead>\n",
       "    <tr style=\"text-align: right;\">\n",
       "      <th></th>\n",
       "      <th>bathrooms_qt</th>\n",
       "      <th>bedrooms_qt</th>\n",
       "      <th>condition_qt</th>\n",
       "      <th>floors_qt</th>\n",
       "      <th>grade_qt</th>\n",
       "      <th>price_qt</th>\n",
       "      <th>sqft_above_qt</th>\n",
       "      <th>sqft_basement_qt</th>\n",
       "      <th>sqft_living15_qt</th>\n",
       "      <th>sqft_living_qt</th>\n",
       "      <th>sqft_lot15_qt</th>\n",
       "      <th>sqft_lot_qt</th>\n",
       "      <th>view_qt</th>\n",
       "      <th>waterfront</th>\n",
       "      <th>yr_built_qt</th>\n",
       "      <th>yr_renovated_qt</th>\n",
       "      <th>zipcode_price_qt</th>\n",
       "      <th>zipcode_qt</th>\n",
       "    </tr>\n",
       "  </thead>\n",
       "  <tbody>\n",
       "    <tr>\n",
       "      <th>0</th>\n",
       "      <td>0.520661</td>\n",
       "      <td>-0.332198</td>\n",
       "      <td>-0.434861</td>\n",
       "      <td>0.743040</td>\n",
       "      <td>-0.478025</td>\n",
       "      <td>-0.002509</td>\n",
       "      <td>0.700711</td>\n",
       "      <td>-5.199338</td>\n",
       "      <td>0.812654</td>\n",
       "      <td>0.368215</td>\n",
       "      <td>-0.698693</td>\n",
       "      <td>0.063183</td>\n",
       "      <td>-5.199338</td>\n",
       "      <td>0</td>\n",
       "      <td>0.868016</td>\n",
       "      <td>-5.199338</td>\n",
       "      <td>0.091712</td>\n",
       "      <td>-0.011291</td>\n",
       "    </tr>\n",
       "    <tr>\n",
       "      <th>1</th>\n",
       "      <td>-1.321946</td>\n",
       "      <td>-0.332198</td>\n",
       "      <td>-0.434861</td>\n",
       "      <td>-5.199338</td>\n",
       "      <td>-0.478025</td>\n",
       "      <td>-0.783330</td>\n",
       "      <td>-1.075207</td>\n",
       "      <td>-5.199338</td>\n",
       "      <td>-2.004234</td>\n",
       "      <td>-1.391202</td>\n",
       "      <td>-0.607463</td>\n",
       "      <td>-0.580895</td>\n",
       "      <td>-5.199338</td>\n",
       "      <td>0</td>\n",
       "      <td>-1.334066</td>\n",
       "      <td>2.325972</td>\n",
       "      <td>-0.364191</td>\n",
       "      <td>-0.199538</td>\n",
       "    </tr>\n",
       "    <tr>\n",
       "      <th>2</th>\n",
       "      <td>2.013671</td>\n",
       "      <td>1.602210</td>\n",
       "      <td>-0.434861</td>\n",
       "      <td>0.743040</td>\n",
       "      <td>1.634747</td>\n",
       "      <td>1.542950</td>\n",
       "      <td>2.175718</td>\n",
       "      <td>-5.199338</td>\n",
       "      <td>1.387908</td>\n",
       "      <td>1.887753</td>\n",
       "      <td>0.129582</td>\n",
       "      <td>0.163099</td>\n",
       "      <td>1.566990</td>\n",
       "      <td>0</td>\n",
       "      <td>1.192071</td>\n",
       "      <td>-5.199338</td>\n",
       "      <td>-0.364191</td>\n",
       "      <td>-0.160010</td>\n",
       "    </tr>\n",
       "    <tr>\n",
       "      <th>3</th>\n",
       "      <td>0.067799</td>\n",
       "      <td>0.686350</td>\n",
       "      <td>-0.434861</td>\n",
       "      <td>0.743040</td>\n",
       "      <td>0.421111</td>\n",
       "      <td>-0.689529</td>\n",
       "      <td>0.756333</td>\n",
       "      <td>-5.199338</td>\n",
       "      <td>0.621099</td>\n",
       "      <td>0.439001</td>\n",
       "      <td>0.298876</td>\n",
       "      <td>-0.035923</td>\n",
       "      <td>-5.199338</td>\n",
       "      <td>0</td>\n",
       "      <td>0.186756</td>\n",
       "      <td>-5.199338</td>\n",
       "      <td>-0.364191</td>\n",
       "      <td>-0.199538</td>\n",
       "    </tr>\n",
       "    <tr>\n",
       "      <th>4</th>\n",
       "      <td>0.520661</td>\n",
       "      <td>-0.332198</td>\n",
       "      <td>-0.434861</td>\n",
       "      <td>0.743040</td>\n",
       "      <td>-0.478025</td>\n",
       "      <td>0.397918</td>\n",
       "      <td>0.595437</td>\n",
       "      <td>-5.199338</td>\n",
       "      <td>0.584984</td>\n",
       "      <td>0.241963</td>\n",
       "      <td>-0.960196</td>\n",
       "      <td>-0.933654</td>\n",
       "      <td>-5.199338</td>\n",
       "      <td>0</td>\n",
       "      <td>0.821412</td>\n",
       "      <td>-5.199338</td>\n",
       "      <td>-0.364191</td>\n",
       "      <td>-0.238089</td>\n",
       "    </tr>\n",
       "  </tbody>\n",
       "</table>\n",
       "</div>"
      ],
      "text/plain": [
       "   bathrooms_qt  bedrooms_qt  condition_qt  floors_qt  grade_qt  price_qt  \\\n",
       "0      0.520661    -0.332198     -0.434861   0.743040 -0.478025 -0.002509   \n",
       "1     -1.321946    -0.332198     -0.434861  -5.199338 -0.478025 -0.783330   \n",
       "2      2.013671     1.602210     -0.434861   0.743040  1.634747  1.542950   \n",
       "3      0.067799     0.686350     -0.434861   0.743040  0.421111 -0.689529   \n",
       "4      0.520661    -0.332198     -0.434861   0.743040 -0.478025  0.397918   \n",
       "\n",
       "   sqft_above_qt  sqft_basement_qt  sqft_living15_qt  sqft_living_qt  \\\n",
       "0       0.700711         -5.199338          0.812654        0.368215   \n",
       "1      -1.075207         -5.199338         -2.004234       -1.391202   \n",
       "2       2.175718         -5.199338          1.387908        1.887753   \n",
       "3       0.756333         -5.199338          0.621099        0.439001   \n",
       "4       0.595437         -5.199338          0.584984        0.241963   \n",
       "\n",
       "   sqft_lot15_qt  sqft_lot_qt   view_qt  waterfront  yr_built_qt  \\\n",
       "0      -0.698693     0.063183 -5.199338           0     0.868016   \n",
       "1      -0.607463    -0.580895 -5.199338           0    -1.334066   \n",
       "2       0.129582     0.163099  1.566990           0     1.192071   \n",
       "3       0.298876    -0.035923 -5.199338           0     0.186756   \n",
       "4      -0.960196    -0.933654 -5.199338           0     0.821412   \n",
       "\n",
       "   yr_renovated_qt  zipcode_price_qt  zipcode_qt  \n",
       "0        -5.199338          0.091712   -0.011291  \n",
       "1         2.325972         -0.364191   -0.199538  \n",
       "2        -5.199338         -0.364191   -0.160010  \n",
       "3        -5.199338         -0.364191   -0.199538  \n",
       "4        -5.199338         -0.364191   -0.238089  "
      ]
     },
     "execution_count": 3,
     "metadata": {},
     "output_type": "execute_result"
    }
   ],
   "source": [
    "transformed_train_df = pd.read_csv(config.file_directory('cleaned') + 'transformed_train_df.csv')\n",
    "transformed_train_df = transformed_train_df.loc[:, transformed_train_df.columns!='yr_renovated_bool']\n",
    "print(f\"Number of records: {transformed_train_df.shape[0]}\")\n",
    "print(f\"Number of columns: {transformed_train_df.shape[1]}\")\n",
    "transformed_train_df.head()"
   ]
  },
  {
   "cell_type": "code",
   "execution_count": 4,
   "id": "73fbed1e-58af-468b-bbe8-c0e6228e5a5a",
   "metadata": {},
   "outputs": [
    {
     "name": "stdout",
     "output_type": "stream",
     "text": [
      "Number of records: 7133\n",
      "Number of columns: 18\n"
     ]
    },
    {
     "data": {
      "text/html": [
       "<div>\n",
       "<style scoped>\n",
       "    .dataframe tbody tr th:only-of-type {\n",
       "        vertical-align: middle;\n",
       "    }\n",
       "\n",
       "    .dataframe tbody tr th {\n",
       "        vertical-align: top;\n",
       "    }\n",
       "\n",
       "    .dataframe thead th {\n",
       "        text-align: right;\n",
       "    }\n",
       "</style>\n",
       "<table border=\"1\" class=\"dataframe\">\n",
       "  <thead>\n",
       "    <tr style=\"text-align: right;\">\n",
       "      <th></th>\n",
       "      <th>bathrooms</th>\n",
       "      <th>bedrooms</th>\n",
       "      <th>condition</th>\n",
       "      <th>floors</th>\n",
       "      <th>grade</th>\n",
       "      <th>sqft_above</th>\n",
       "      <th>sqft_basement</th>\n",
       "      <th>sqft_living</th>\n",
       "      <th>sqft_living15</th>\n",
       "      <th>sqft_lot</th>\n",
       "      <th>sqft_lot15</th>\n",
       "      <th>view</th>\n",
       "      <th>waterfront</th>\n",
       "      <th>yr_built</th>\n",
       "      <th>yr_renovated</th>\n",
       "      <th>zipcode</th>\n",
       "      <th>price</th>\n",
       "      <th>zipcode_price</th>\n",
       "    </tr>\n",
       "  </thead>\n",
       "  <tbody>\n",
       "    <tr>\n",
       "      <th>0</th>\n",
       "      <td>1.50</td>\n",
       "      <td>2</td>\n",
       "      <td>3</td>\n",
       "      <td>3.0</td>\n",
       "      <td>7</td>\n",
       "      <td>1430</td>\n",
       "      <td>0</td>\n",
       "      <td>1430</td>\n",
       "      <td>1430</td>\n",
       "      <td>1650</td>\n",
       "      <td>1650</td>\n",
       "      <td>0</td>\n",
       "      <td>0</td>\n",
       "      <td>1999</td>\n",
       "      <td>0</td>\n",
       "      <td>98125</td>\n",
       "      <td>297000.0</td>\n",
       "      <td>5</td>\n",
       "    </tr>\n",
       "    <tr>\n",
       "      <th>1</th>\n",
       "      <td>3.25</td>\n",
       "      <td>4</td>\n",
       "      <td>4</td>\n",
       "      <td>2.0</td>\n",
       "      <td>12</td>\n",
       "      <td>4670</td>\n",
       "      <td>0</td>\n",
       "      <td>4670</td>\n",
       "      <td>4230</td>\n",
       "      <td>51836</td>\n",
       "      <td>41075</td>\n",
       "      <td>0</td>\n",
       "      <td>0</td>\n",
       "      <td>1988</td>\n",
       "      <td>0</td>\n",
       "      <td>98005</td>\n",
       "      <td>1578000.0</td>\n",
       "      <td>9</td>\n",
       "    </tr>\n",
       "    <tr>\n",
       "      <th>2</th>\n",
       "      <td>0.75</td>\n",
       "      <td>2</td>\n",
       "      <td>3</td>\n",
       "      <td>1.0</td>\n",
       "      <td>7</td>\n",
       "      <td>1200</td>\n",
       "      <td>240</td>\n",
       "      <td>1440</td>\n",
       "      <td>1440</td>\n",
       "      <td>3700</td>\n",
       "      <td>4300</td>\n",
       "      <td>0</td>\n",
       "      <td>0</td>\n",
       "      <td>1914</td>\n",
       "      <td>0</td>\n",
       "      <td>98107</td>\n",
       "      <td>562100.0</td>\n",
       "      <td>8</td>\n",
       "    </tr>\n",
       "    <tr>\n",
       "      <th>3</th>\n",
       "      <td>1.00</td>\n",
       "      <td>2</td>\n",
       "      <td>4</td>\n",
       "      <td>1.0</td>\n",
       "      <td>8</td>\n",
       "      <td>1130</td>\n",
       "      <td>0</td>\n",
       "      <td>1130</td>\n",
       "      <td>1680</td>\n",
       "      <td>2640</td>\n",
       "      <td>3200</td>\n",
       "      <td>0</td>\n",
       "      <td>0</td>\n",
       "      <td>1927</td>\n",
       "      <td>0</td>\n",
       "      <td>98109</td>\n",
       "      <td>631500.0</td>\n",
       "      <td>8</td>\n",
       "    </tr>\n",
       "    <tr>\n",
       "      <th>4</th>\n",
       "      <td>2.50</td>\n",
       "      <td>4</td>\n",
       "      <td>3</td>\n",
       "      <td>2.0</td>\n",
       "      <td>9</td>\n",
       "      <td>3180</td>\n",
       "      <td>0</td>\n",
       "      <td>3180</td>\n",
       "      <td>2440</td>\n",
       "      <td>9603</td>\n",
       "      <td>15261</td>\n",
       "      <td>2</td>\n",
       "      <td>0</td>\n",
       "      <td>2002</td>\n",
       "      <td>0</td>\n",
       "      <td>98155</td>\n",
       "      <td>780000.0</td>\n",
       "      <td>1</td>\n",
       "    </tr>\n",
       "  </tbody>\n",
       "</table>\n",
       "</div>"
      ],
      "text/plain": [
       "   bathrooms  bedrooms  condition  floors  grade  sqft_above  sqft_basement  \\\n",
       "0       1.50         2          3     3.0      7        1430              0   \n",
       "1       3.25         4          4     2.0     12        4670              0   \n",
       "2       0.75         2          3     1.0      7        1200            240   \n",
       "3       1.00         2          4     1.0      8        1130              0   \n",
       "4       2.50         4          3     2.0      9        3180              0   \n",
       "\n",
       "   sqft_living  sqft_living15  sqft_lot  sqft_lot15  view  waterfront  \\\n",
       "0         1430           1430      1650        1650     0           0   \n",
       "1         4670           4230     51836       41075     0           0   \n",
       "2         1440           1440      3700        4300     0           0   \n",
       "3         1130           1680      2640        3200     0           0   \n",
       "4         3180           2440      9603       15261     2           0   \n",
       "\n",
       "   yr_built  yr_renovated  zipcode      price  zipcode_price  \n",
       "0      1999             0    98125   297000.0              5  \n",
       "1      1988             0    98005  1578000.0              9  \n",
       "2      1914             0    98107   562100.0              8  \n",
       "3      1927             0    98109   631500.0              8  \n",
       "4      2002             0    98155   780000.0              1  "
      ]
     },
     "execution_count": 4,
     "metadata": {},
     "output_type": "execute_result"
    }
   ],
   "source": [
    "test_df = pd.read_csv(config.file_directory('cleaned') + 'test_df.csv')\n",
    "test_df = test_df.loc[:, test_df.columns!='yr_renovated_bool']\n",
    "print(f\"Number of records: {test_df.shape[0]}\")\n",
    "print(f\"Number of columns: {test_df.shape[1]}\")\n",
    "test_df.head()"
   ]
  },
  {
   "cell_type": "markdown",
   "id": "edfca380-6c6a-49a2-81c3-5f41237ac974",
   "metadata": {},
   "source": [
    "# K-Nearest Neighbours (k-NN)"
   ]
  },
  {
   "cell_type": "markdown",
   "id": "28ea47f6-4fc7-4c5d-aae5-3f38e13f5fac",
   "metadata": {},
   "source": [
    "## Background\n",
    "* A non-parameteric algorithm, where the response of a data point is determined by the nature of its k nearest neighbours from the training set\n",
    "  \n",
    "* It can be used for both classification and regression"
   ]
  },
  {
   "cell_type": "markdown",
   "id": "553e672d-3ce5-418e-97b5-62ee2bbeb99f",
   "metadata": {},
   "source": [
    "**Algorithm**\n",
    "\n",
    "* Assumption: Similar inputs have similar outputs\n",
    "\n",
    "* There is no model to be fit. For a test input $X$:\n",
    "\n",
    "    1. Find $K$ most similar neighbours in the training data\n",
    "    \n",
    "    2. Classification rule : Assign the most common label amongst its $k$ most similar training input\n",
    "       \n",
    "    3. Regression rule: Assign the average value across its $k$ most similar training inputs"
   ]
  },
  {
   "cell_type": "markdown",
   "id": "e3a988ad-9a2a-4ac7-8698-d731ba3b4907",
   "metadata": {},
   "source": [
    "**Distance metrics**\n",
    "* Used to quantify how similar one record is to another\n",
    "\n",
    "* *Euclidian distance:*\n",
    "  \n",
    "    * Straight line distance\n",
    "\n",
    "        $ \\sqrt{\\sum_{i=1}^d x_i^2} $\n",
    "\n",
    "* *Manhattan distance:*\n",
    "  \n",
    "    * Distance when traversing in one direction at a time\n",
    "\n",
    "        $ \\sum_{i=1}^d |x_i| $\n",
    "\n",
    "* *Mahalanobis distance:*\n",
    "\n",
    "    * Euclidian distance between the principal components\n",
    "\n",
    "    * Accounts for correlation between two variables (unlike Euclidian & Manhattan)"
   ]
  },
  {
   "cell_type": "markdown",
   "id": "e818e997-6a78-40f1-ae0f-d7b11648db16",
   "metadata": {},
   "source": [
    "**Choosing K**\n",
    "* K: The number of neighbors considered in the nearest neighbor calculation\n",
    "\n",
    "* For classification problems, an odd number is usually chosen to avoid ties\n",
    "\n",
    "* Use cross-validation to choose K\n",
    "  \n",
    "* Bias variance trade-off:\n",
    "  \n",
    "    * Low K > overfitting & high variance\n",
    "      \n",
    "    * High K > underfitting & high bias"
   ]
  },
  {
   "cell_type": "markdown",
   "id": "7e4caab3-e367-476f-98ea-682ebe43666d",
   "metadata": {},
   "source": [
    "**Key characteristics**\n",
    "\n",
    "* Curse of dimensionality / Dimensionality reduction\n",
    "* https://stats.stackexchange.com/questions/159070/curse-of-dimensionality-knn-classifier"
   ]
  },
  {
   "cell_type": "markdown",
   "id": "7742b465-be03-40bc-85de-77e81079b492",
   "metadata": {},
   "source": [
    "**Implementation**\n",
    "* This is a regression problem\n",
    "\n",
    "* All features will be standardised. Otherwise the distance metric will be dominated by larger features\n",
    "  \n",
    "* Distance metric: Euclidian distance"
   ]
  },
  {
   "cell_type": "markdown",
   "id": "1ab21cc9-4c88-4f42-a310-d70249418dd4",
   "metadata": {},
   "source": [
    "**References:**\n",
    "1. Practical Statistics for Data Scientists, Andrew Bruce & Peter Gedeck\n",
    "2. https://stanford.edu/~shervine/teaching/cs-229/cheatsheet-supervised-learning#other\n",
    "3. https://www.cs.cornell.edu/courses/cs4780/2018fa/lectures/lecturenote02_kNN.html\n",
    "4. https://ocw.mit.edu/courses/6-034-artificial-intelligence-fall-2010/resources/lecture-10-introduction-to-learning-nearest-neighbors/\n",
    "5. https://scikit-learn.org/stable/modules/neighbors.html#regression"
   ]
  },
  {
   "cell_type": "markdown",
   "id": "7d605f19-ee83-4ee6-9161-1237a07f7cfd",
   "metadata": {},
   "source": [
    "## Model training\n",
    "***Key observations:***\n",
    "* To avoid issues with dimensionality, a subset of predictor variables was chosen based on the LASSO regression results.\n",
    "\n",
    "* Cross validation indicates K=15 was optimal."
   ]
  },
  {
   "cell_type": "code",
   "execution_count": 5,
   "id": "f86722be-fdf6-4371-ae22-20a33382d120",
   "metadata": {},
   "outputs": [],
   "source": [
    "predictors = ['grade', 'sqft_living', 'waterfront', 'view', 'zipcode_price', 'sqft_living15',\n",
    "              'bathrooms', 'zipcode', 'condition', 'yr_renovated', 'sqft_lot15', 'yr_built']"
   ]
  },
  {
   "cell_type": "code",
   "execution_count": 6,
   "id": "3a10457d-8ec1-4486-be26-a6a879acb729",
   "metadata": {},
   "outputs": [],
   "source": [
    "X_train, y_train = train_df.loc[:, (train_df.columns != 'price') & (train_df.columns != 'price')], train_df.loc[:, train_df.columns == 'price']\n",
    "X_train = X_train[predictors]"
   ]
  },
  {
   "cell_type": "code",
   "execution_count": 7,
   "id": "9e679f47-af5e-486a-b867-c434b6114d9e",
   "metadata": {},
   "outputs": [
    {
     "name": "stdout",
     "output_type": "stream",
     "text": [
      "Best parameter (CV score=0.573739725624858)\n",
      "{'kNN__n_neighbors': 15}\n"
     ]
    }
   ],
   "source": [
    "pipe = Pipeline([('scaler', QuantileTransformer(output_distribution='normal')),\n",
    "                 ('standardise', StandardScaler()),\n",
    "                 ('kNN', KNeighborsRegressor())\n",
    "                ])\n",
    "    \n",
    "param_grid = {'kNN__n_neighbors': [15, 16, 17, 18, 19, 20, 21, 22, 23, 24, 25]}\n",
    "search = GridSearchCV(pipe, param_grid, cv=5, scoring='r2')\n",
    "search.fit(X_train, y_train)\n",
    "print(f\"Best parameter (CV score={search.best_score_})\")\n",
    "print(search.best_params_)"
   ]
  },
  {
   "cell_type": "markdown",
   "id": "c39c67e2-c8d4-4de5-835c-c93566b485ae",
   "metadata": {},
   "source": [
    "## Model evaluation\n",
    "***Key observations:***\n",
    "* R-squared: 0.69\n",
    "  \n",
    "* MAE: 110,012\n",
    "  \n",
    "* RMSE: 44,776,229,057"
   ]
  },
  {
   "cell_type": "code",
   "execution_count": 8,
   "id": "8accc702-3706-4768-880f-3c8e342440ff",
   "metadata": {},
   "outputs": [],
   "source": [
    "X_test, y_test = test_df.loc[:, test_df.columns != 'price'], test_df.loc[:, test_df.columns == 'price']\n",
    "X_test = X_test[predictors]"
   ]
  },
  {
   "cell_type": "code",
   "execution_count": 9,
   "id": "5b66d3fe-0b5c-4a6e-873d-65fa31c41088",
   "metadata": {},
   "outputs": [
    {
     "name": "stdout",
     "output_type": "stream",
     "text": [
      "R^2: 0.690701066533274\n",
      "MAE: 109875.48728445254\n",
      "RMSE: 44687145897.63466\n"
     ]
    }
   ],
   "source": [
    "pipe = Pipeline([('scaler', QuantileTransformer(output_distribution='normal')),\n",
    "                 ('standardise', StandardScaler()),\n",
    "                 ('kNN', KNeighborsRegressor(n_neighbors=15))\n",
    "                ])\n",
    "\n",
    "pipe.fit(X_train, y_train)\n",
    "y_pred = pipe.predict(X_test)\n",
    "\n",
    "print(f\"R^2: {r2_score(y_test, y_pred)}\")\n",
    "print(f\"MAE: {mean_absolute_error(y_test, y_pred)}\")\n",
    "print(f\"RMSE: {mean_squared_error(y_test, y_pred)}\")"
   ]
  },
  {
   "cell_type": "markdown",
   "id": "7bcfb800-5b52-4e6c-9f11-e8d5dd9234af",
   "metadata": {},
   "source": [
    "**Test set performance**"
   ]
  },
  {
   "cell_type": "code",
   "execution_count": 10,
   "id": "a01c54a6-1b31-4363-835a-0bd21926b579",
   "metadata": {},
   "outputs": [
    {
     "data": {
      "image/png": "[encoded data removed]",
      "text/plain": [
       "<Figure size 426.667x320 with 1 Axes>"
      ]
     },
     "metadata": {},
     "output_type": "display_data"
    }
   ],
   "source": [
    "fig, axes = plt.subplots(nrows=1, ncols=1, constrained_layout=True, figsize=(6.4/1.5, 4.8/1.5))\n",
    "axes.tick_params(bottom=False, left=False)\n",
    "axes.grid(False)\n",
    "axes.spines[['top', 'right']].set_visible(False)\n",
    "axes.spines[['left', 'bottom']].set_color('dimgray')\n",
    "\n",
    "axes.scatter(y_test, y_pred, color='dimgray', alpha=0.1, label='Pred')\n",
    "axes.plot(y_test, y_test, color='red', label='Actual')\n",
    "axes.set_xlabel('Actual price', fontsize=10, color='dimgray')\n",
    "axes.set_ylabel('Predicted price', fontsize=10, color='dimgray')\n",
    "axes.legend();"
   ]
  },
  {
   "cell_type": "markdown",
   "id": "2dcb8e5e-6f12-49d7-9504-cee31f1ebbdc",
   "metadata": {},
   "source": [
    "## Conclusion\n",
    "* LASSO regression gives:\n",
    "    * R-squared: 0.55\n",
    "    * MAE: 148,117\n",
    "    * RMSE: 255,651\n",
    "<br></br>\n",
    "* k-NN gives a substantial improvement in performance with respect to linear regression for both R-squared and MAE\n",
    "\n",
    "* It performs worse for RMSE. This is likely due to an outlier affecting this metric more."
   ]
  },
  {
   "cell_type": "markdown",
   "id": "55880587-ae4d-40c3-8278-0b1dd22c3656",
   "metadata": {},
   "source": [
    "# Random forest"
   ]
  },
  {
   "cell_type": "markdown",
   "id": "5c3e7363-73c8-4751-85fa-c4e1333cfc3e",
   "metadata": {},
   "source": [
    "## Background"
   ]
  },
  {
   "cell_type": "markdown",
   "id": "1eb526d3-2f75-4850-a315-7fa63859ed87",
   "metadata": {},
   "source": [
    "### Decision trees\n",
    "* A non-parametric algorithm, which can be used for both classification and regression.\n",
    "\n",
    "* Prone to high variance and low bias\n",
    "\n",
    "* Advantages:\n",
    "    1. They can capture non-linear relationships among predictor variables\n",
    "       \n",
    "    2. They provide a set of rules, which can be communicated to lay users\n",
    "       \n",
    "    3. The trees can be visualised and used to identify important predictors"
   ]
  },
  {
   "cell_type": "markdown",
   "id": "b01d246d-cad3-4c7b-9423-e7c966e9db97",
   "metadata": {},
   "source": [
    "---"
   ]
  },
  {
   "cell_type": "markdown",
   "id": "f9b9f74b-29c4-4a5c-aa6b-c0bdc1832d74",
   "metadata": {},
   "source": [
    "#### Recursive partitioning\n",
    "\n",
    "* Decicision rules are learnt by repeatedly partitioning training data using predictor values that maximise within partition homogeneity (i.e. class purity) for classification tasks, and minimising variance for regression problems."
   ]
  },
  {
   "cell_type": "markdown",
   "id": "14053ef1-2d6f-46e9-8a4e-772e69f7d2c3",
   "metadata": {},
   "source": [
    "Given a training set containing $P$ predictor variables $X_j$ for $j=1,...,P$ and a response variable $Y$:\n",
    "\n",
    "1. For each predictor variable $X_j$:\n",
    "   \n",
    "   **a.** For each value $x_{j(k)}$ of $X_j$:\n",
    "   \n",
    "   i. Split the training set into two subpartitions with $X_j$ < $x_{j(k)}$ as one partition, and the remaining records as another partition\n",
    "\n",
    "   ii. Measure homogeneity within each subpartition\n",
    "\n",
    "   **b.** Select the $x_{j(k)}$ that maximises subpartition homogeneity \n",
    "\n",
    "2. Select the variable $X_j$ and the corresponding split value ($x_{j(k)}$) that maximises subpartition homogeneity \n",
    "\n",
    "3. Repeat steps one and two on the resulting subpartitions\n",
    "\n",
    "4. Terminate when no further partition can sufficiently improve the homogeneity of the partitions"
   ]
  },
  {
   "cell_type": "markdown",
   "id": "fcab504f-13a8-493c-92f6-a893c8a706ef",
   "metadata": {},
   "source": [
    "---"
   ]
  },
  {
   "cell_type": "markdown",
   "id": "67817925-b66b-4c90-95d4-32157c92c6fb",
   "metadata": {},
   "source": [
    "#### Homogeneity\n",
    "\n",
    "* For classification problems, gini impurity or entropy are typically calculated\n",
    "\n",
    "* For regression problems, variance is minimised.\n",
    "\n",
    "**1. Gini impurity**\n",
    "   \n",
    "* Measures how often a *randomly chosen* element of a set would be incorrectly labeled if it were *labeled randomly* and independently according to the distribution of labels in the set\n",
    "      \n",
    "* For a partition with C classes:\n",
    "\n",
    "  $ G = \\sum_{i=1}^Cp_i(1-p_i) $\n",
    "\n",
    "  *Where, C is the total number of classes and p<sub>i</sub> is the probability of picking a point with class i.*\n",
    "\n",
    "* A weighted average is calculated for the partitions produced by a split\n",
    "  \n",
    "  $ G_{avg} = \\frac{\\sum_{n=1}^S G_n |e_n|}{\\sum_{n=1}^S |e_n|} $\n",
    "\n",
    "  *Where, S is the number of partitions (usually 2), G<sub>n</sub> is the Gini impurity of partition n, and |e<sub>n</sub>| is the number of elements in partition n.*\n",
    "\n",
    "* When choosing a split, we are essentially maximising the Gini gain, which is calculated by subtracting the weighted impurity (above) from the original impurity\n",
    "\n",
    "[Source](https://victorzhou.com/blog/gini-impurity/)\n",
    "\n",
    "**2. Entropy**\n",
    "\n",
    "* Entropy can be thought of a quantifying information content or variance\n",
    "\n",
    "* For a partition with C classes:\n",
    "\n",
    "    $ E = - \\sum_{i=1}^C p_i\\log_2p_i $\n",
    "\n",
    "    *Where, C is the total number of classes and p<sub>i</sub> is the probability of picking a point with class i.*\n",
    "\n",
    "* A weighted average is calculated for the partitions produced by a split:\n",
    "  \n",
    "    $ E_{avg} = \\frac{\\sum_{n=1}^S E_n |e_n|}{\\sum_{n=1}^S |e_n|} $\n",
    "\n",
    "    *Where, S is the number of partitions (usually 2), E<sub>n</sub> is the entropy of partition n, and |e<sub>n</sub>| is the number of elements in partition n.*\n",
    "\n",
    "* When choosing a split, we are essentially maximising the information gain, which is calculated by subtracting the weighted entropy (above) from the original entropy\n",
    "\n",
    "[Source](https://victorzhou.com/blog/information-gain/)\n",
    "\n",
    "**3. Variance**\n",
    "\n",
    "The variance reduction of a split is defined as the total reduction of the variance of the target variable Y due to the split\n",
    "\n",
    "$Var(Y) = E[(Y-\\mu)^2]$\n",
    "\n",
    "[Source](https://en.wikipedia.org/wiki/Decision_tree_learning#:~:text=Gini%20impurity%20measures%20how%20often,of%20labels%20in%20the%20set.)"
   ]
  },
  {
   "cell_type": "markdown",
   "id": "5c4b7c17-2d8d-45cb-bb71-7a10c245820e",
   "metadata": {},
   "source": [
    "---"
   ]
  },
  {
   "cell_type": "markdown",
   "id": "00ec4e73-3539-4a47-ac8e-92398fbb5f5c",
   "metadata": {},
   "source": [
    "#### Making predictions\n",
    "* For classification tasks, the majority class in the terminal node (leaf) is given -- a corresponding probability can also be given\n",
    "  \n",
    "* For regression tasks, the mean value of the response variable in a terminal node (leaf) is given"
   ]
  },
  {
   "cell_type": "markdown",
   "id": "0247f611-58fe-43dc-9526-64bc4fb869af",
   "metadata": {},
   "source": [
    "---"
   ]
  },
  {
   "cell_type": "markdown",
   "id": "3a765ec3-eda6-49ca-8f9d-e40fd198b11a",
   "metadata": {},
   "source": [
    "#### Implementation\n",
    "\n",
    "Larger (deeper) trees are prone to overfitting. This can be mitigated by choosing appropriate hyperparameters:\n",
    "\n",
    "1. Max depth of a tree -- the number of nodes in a tree\n",
    "    \n",
    "2. Minimum number of samples in a split -- minimum partition size"
   ]
  },
  {
   "cell_type": "markdown",
   "id": "d114d4aa-ecd8-4059-b3b8-f6efe6466fa5",
   "metadata": {},
   "source": [
    "---"
   ]
  },
  {
   "cell_type": "markdown",
   "id": "1347880a-a8d8-4cd3-a66e-1dcdd348148b",
   "metadata": {},
   "source": [
    "### Random forest\n",
    "* A non-parametric algorithm, which can be used for both classification and regression\n",
    "\n",
    "* Makes a prediction using a collection of decision trees (i.e. ensemble learning)\n",
    "\n",
    "* Ensemble learning is achieved using bootstrap aggregating (AKA bagging)\n",
    "\n",
    "* Advantages:\n",
    "    1. Higher accuracy (lower variance) than individual decision tree\n",
    "    \n",
    "    2. Generalisation error can be estimated using the data left out of the bootstrapped training set for each tree (AKA out-of-bag estimates)\n",
    "    \n",
    "    3. A features importance can be assessed using the mean decrease in Gini impurity / entropy for all nodes that were split on it.\n",
    "\n",
    "* Disadvantages:\n",
    "    1. Sacrifice some explainability"
   ]
  },
  {
   "cell_type": "markdown",
   "id": "9bc75c97-370d-4361-8e5f-8309a426006b",
   "metadata": {},
   "source": [
    "---"
   ]
  },
  {
   "cell_type": "markdown",
   "id": "0619d349-51b7-4d59-bab4-361566ca4f71",
   "metadata": {},
   "source": [
    "#### Bagging algorithm\n",
    "\n",
    "* Assume the training data contains $N$ records with a response $Y$ and $P$ predictor variables $X = X_1, X_2,..., X_P$\n",
    "\n",
    "1. Initialise $M$ models to be fit. Set a model counter $m=1$\n",
    "\n",
    "2. Take a bootstrap resample (i.e. with replacement) of $N$ records from the training data to create a sample $Y_m$ and  $X_m$ (AKA the bag)\n",
    "\n",
    "3. Train a model using the bag to create a set of decision rules $\\hat{f}_m(X)$\n",
    "\n",
    "4. Increment the model counter $m$ by one. If $m\\leq M$, repeat from step two"
   ]
  },
  {
   "cell_type": "markdown",
   "id": "67a2a628-779e-4584-97ae-6fbda6d08e53",
   "metadata": {},
   "source": [
    "---"
   ]
  },
  {
   "cell_type": "markdown",
   "id": "adf7950d-a0f0-4ee9-a4ba-e469c0e5fabc",
   "metadata": {},
   "source": [
    "#### Random forest algorithm\n",
    "\n",
    "* A random forest is trained using the bagging algorithm with one extension: at each split, the choice of variable is limited to a random subset of variables\n",
    "\n",
    "* Assume the training data contains $N$ records with a response $Y$ and $P$ predictor variables $X = X_1, X_2,..., X_P$\n",
    "\n",
    "1. Initialise $M$ decision trees to be fit. Set a model counter $m=1$\n",
    "\n",
    "1. Take a bootstrap resample (i.e. with replacement) from the training data\n",
    "\n",
    "2. For the first split, sample $p$ variables ($p=\\sqrt{P}$) at random without replacement\n",
    "\n",
    "3. For each of the sampled predictor variables $X_1, X_2,..., X_p$ \n",
    "   \n",
    "    **a.** For each value $x_{p(j)}$ of $X_{p}$:\n",
    "   \n",
    "   - Split the training set into two subpartitions with $X_p$ < $x_{p(j)}$ as one partition, and the remaining records as another partition\n",
    "\n",
    "   - Measure homogeneity of each subpartition\n",
    "\n",
    "    **b.** Select the $x_{p(j)}$ that maximises subpartition homogeneity \n",
    "\n",
    "4. Select the variable $X_p$ and the corresponding split value ($x_{p(j)}$) that maximises subpartition homogeneity \n",
    "\n",
    "5. Repeat steps two onwards for subsequent subpartitions\n",
    "\n",
    "6. Terminate when no further partition can sufficiently improve homogeneity\n",
    "\n",
    "4. Increment the model counter $m$ by one. If $m\\leq M$, repeat from step one."
   ]
  },
  {
   "cell_type": "markdown",
   "id": "43196de2-4190-4180-8cd1-0f4ed1c150e8",
   "metadata": {},
   "source": [
    "---"
   ]
  },
  {
   "cell_type": "markdown",
   "id": "14d36ff1-4e3b-457e-9c0e-813b8b16d50c",
   "metadata": {},
   "source": [
    "#### Making predictions\n",
    "\n",
    "* For classification problems, majority voting is used to decide class.\n",
    "\n",
    "* For regression problems, the bagged estimate is given by: \n",
    "\n",
    "    $\\hat{f}(X)=\\frac{1}{M} (\\hat{f}_2(X) + \\hat{f}_2(X)+...+ \\hat{f}_M(X))$"
   ]
  },
  {
   "cell_type": "markdown",
   "id": "3776eef6-8331-40f9-9dde-8ae93cc06406",
   "metadata": {},
   "source": [
    "---"
   ]
  },
  {
   "cell_type": "markdown",
   "id": "4d2b0bec-50f8-42d3-80bd-020b5e223401",
   "metadata": {},
   "source": [
    "#### Implementation\n",
    "* No transformation or scaling of predictive features is required -- the output is a collection of partition (decision) rules based on thresholds and any monotonic transformation shouldn't change these as they wont affect ranks in the features\n",
    "\n",
    "* Hyperparameter optimisation is critical to prevent overfitting.\n",
    "\n",
    "1. min samples leaf -- minimum size for terminal nodes (leaves in the tree)\n",
    "   \n",
    "3. max leaf nodes -- linked to the maximum number of nodes in each decision tree via:\n",
    "   \n",
    "    $\\text{max nodes} = 2 (\\text{max leaf nodes})-1$"
   ]
  },
  {
   "cell_type": "markdown",
   "id": "4301fb3a-925b-4af8-82c6-ab91424e2704",
   "metadata": {},
   "source": [
    "---"
   ]
  },
  {
   "cell_type": "markdown",
   "id": "6156ca8f-9fec-4ed8-9c25-41922df0212a",
   "metadata": {},
   "source": [
    "### References\n",
    "1. Practical Statistics for Data Scientists, Andrew Bruce & Peter Gedeck\n",
    "2. https://www.cs.cornell.edu/courses/cs4780/2018fa/lectures/lecturenote17.html\n",
    "3. https://www.cs.cornell.edu/courses/cs4780/2018fa/lectures/lecturenote18.html\n",
    "4. https://stanford.edu/~shervine/teaching/cs-229/cheatsheet-supervised-learning#tree\n",
    "5. https://ocw.mit.edu/courses/6-034-artificial-intelligence-fall-2010/resources/lecture-11-learning-identification-trees-disorder/\n",
    "6. https://scikit-learn.org/stable/modules/ensemble.html#random-forests-and-other-randomized-tree-ensembles"
   ]
  },
  {
   "cell_type": "markdown",
   "id": "0a9c2eb9-7c75-4a7a-93a0-bed709a0d6f3",
   "metadata": {},
   "source": [
    "## Model training"
   ]
  },
  {
   "cell_type": "code",
   "execution_count": 11,
   "id": "6e8848c9-ebb3-4bbc-bbaf-3b0d0db15a3d",
   "metadata": {},
   "outputs": [],
   "source": [
    "X_train, y_train = train_df.loc[:, (train_df.columns != 'price') & (train_df.columns != 'price')], train_df.loc[:, train_df.columns == 'price']\n",
    "y_train = y_train.values.ravel() # flatten"
   ]
  },
  {
   "cell_type": "code",
   "execution_count": 15,
   "id": "e6e8b80d-2f6d-470d-acc8-67d51947cb24",
   "metadata": {},
   "outputs": [
    {
     "name": "stdout",
     "output_type": "stream",
     "text": [
      "Best parameter (CV score=0.6579994158137452)\n",
      "{'rf__max_leaf_nodes': 3500, 'rf__min_samples_leaf': 2, 'rf__n_estimators': 50}\n"
     ]
    }
   ],
   "source": [
    "from sklearn.ensemble import RandomForestRegressor\n",
    "\n",
    "pipe = Pipeline([('rf', RandomForestRegressor(random_state=0))])\n",
    "param_grid = {'rf__n_estimators': [50],\n",
    "              'rf__min_samples_leaf': [2], # minimum size of terminal nodes\n",
    "              'rf__max_leaf_nodes': [3000, 3500, 4000, 4500, 5000], # proportional to maximum number of terminal nodes\n",
    "}\n",
    "\n",
    "search = GridSearchCV(pipe, param_grid, cv=5, scoring='r2')\n",
    "search.fit(X_train, y_train)\n",
    "print(f\"Best parameter (CV score={search.best_score_})\")\n",
    "print(search.best_params_)"
   ]
  },
  {
   "cell_type": "code",
   "execution_count": null,
   "id": "197b956f-5613-4bc0-bc91-902174462768",
   "metadata": {},
   "outputs": [],
   "source": [
    "oob_scores = []\n",
    "n_estimator = list(range(50, 500, 50))\n",
    "for n in n_estimator:\n",
    "    rf = RandomForestRegressor(n_estimators=n, min_samples_leaf=2, max_leaf_nodes=3500, random_state=0, oob_score=True)\n",
    "    rf.fit(X_train, y_train)\n",
    "    oob_scores.append(rf.oob_score_)"
   ]
  },
  {
   "cell_type": "code",
   "execution_count": null,
   "id": "7926746d-381f-4370-93c5-cc32024f349c",
   "metadata": {},
   "outputs": [],
   "source": [
    "fig, axes = plt.subplots(nrows=1, ncols=1, constrained_layout=True, figsize=(6.4/1.5, 4.8/1.5))\n",
    "axes.tick_params(bottom=False, left=False)\n",
    "axes.grid(False)\n",
    "axes.spines[['top', 'right']].set_visible(False)\n",
    "axes.spines[['left', 'bottom']].set_color('dimgray')\n",
    "\n",
    "axes.scatter(n_estimator, oob_scores, color='dimgray', label='Pred')\n",
    "axes.set_ylabel('OOB R-squared', fontsize=10, color='dimgray')\n",
    "axes.set_xlabel('n estimators', fontsize=10, color='dimgray');"
   ]
  },
  {
   "cell_type": "markdown",
   "id": "73dbffb0-ccd1-4f93-a09b-1fef82f613bd",
   "metadata": {},
   "source": [
    "## Model evaluation"
   ]
  },
  {
   "cell_type": "code",
   "execution_count": null,
   "id": "34d6cf23-63ae-4220-8d21-06cd0800a35f",
   "metadata": {},
   "outputs": [],
   "source": [
    "X_test, y_test = test_df.loc[:, test_df.columns != 'price'], test_df.loc[:, test_df.columns == 'price']\n",
    "y_test = y_test.values.ravel() # flatten"
   ]
  },
  {
   "cell_type": "code",
   "execution_count": null,
   "id": "32f7ca42-efbd-4258-9955-a031aeedcafa",
   "metadata": {},
   "outputs": [],
   "source": [
    "pipe = Pipeline([('rf', RandomForestRegressor(n_estimators=500, min_samples_leaf=2, max_leaf_nodes=1000, random_state=0, oob_score=True))])\n",
    "pipe.fit(X_train, y_train)\n",
    "y_pred = pipe.predict(X_test)\n",
    "\n",
    "print(f\"R^2: {r2_score(y_test, y_pred)}\")\n",
    "print(f\"MAE: {mean_absolute_error(y_test, y_pred)}\")\n",
    "print(f\"RMSE: {mean_squared_error(y_test, y_pred)}\")"
   ]
  },
  {
   "cell_type": "markdown",
   "id": "441e846f-0929-4e08-b2db-46e415d7cf64",
   "metadata": {},
   "source": [
    "**Test set performance**"
   ]
  },
  {
   "cell_type": "code",
   "execution_count": null,
   "id": "9ff6d344-c2bc-481d-9d90-70c63d023d46",
   "metadata": {},
   "outputs": [],
   "source": [
    "fig, axes = plt.subplots(nrows=1, ncols=1, constrained_layout=True, figsize=(6.4/1.5, 4.8/1.5))\n",
    "axes.tick_params(bottom=False, left=False)\n",
    "axes.grid(False)\n",
    "axes.spines[['top', 'right']].set_visible(False)\n",
    "axes.spines[['left', 'bottom']].set_color('dimgray')\n",
    "\n",
    "axes.scatter(y_test, y_pred, color='dimgray', alpha=0.1, label='Pred')\n",
    "axes.plot(y_test, y_test, color='red', label='Actual')\n",
    "axes.set_xlabel('Actual price', fontsize=10, color='dimgray')\n",
    "axes.set_ylabel('Predicted price', fontsize=10, color='dimgray')\n",
    "axes.legend();"
   ]
  },
  {
   "cell_type": "markdown",
   "id": "70dd3f3a-8429-4e96-9f53-831b44edbfff",
   "metadata": {},
   "source": [
    "**Feature importance**"
   ]
  },
  {
   "cell_type": "code",
   "execution_count": null,
   "id": "64d9f552-2d49-4b81-ab1a-c4a8cb9330da",
   "metadata": {},
   "outputs": [],
   "source": [
    "feature_importance = [(x, y) for x, y in zip(X_train.columns, rf.feature_importances_)]\n",
    "feature_importance.sort(key = lambda i:i[1], reverse=True)\n",
    "feature_importance = pd.DataFrame(feature_importance, columns=['Variable', 'Importance'])\n",
    "feature_importance.head()"
   ]
  },
  {
   "cell_type": "code",
   "execution_count": null,
   "id": "377db3f0-aa29-45d2-9e42-1b8e192ab83f",
   "metadata": {},
   "outputs": [],
   "source": [
    "fig, axes = plt.subplots(nrows=1, ncols=1, constrained_layout=True, figsize=(6.4/1.5, 4.8/1.5))\n",
    "axes.tick_params(bottom=False, left=False)\n",
    "axes.grid(False)\n",
    "axes.spines[['top', 'right']].set_visible(False)\n",
    "axes.spines[['left', 'bottom']].set_color('dimgray')\n",
    "\n",
    "axes.barh(feature_importance['Variable'], feature_importance['Importance'], color='dimgray')\n",
    "axes.set_xlabel('Feature importance', fontsize=10, color='dimgray');"
   ]
  },
  {
   "cell_type": "markdown",
   "id": "b88105c9-bb6f-4934-91e1-d3ded9cf434d",
   "metadata": {},
   "source": [
    "## Conclusion"
   ]
  },
  {
   "cell_type": "markdown",
   "id": "031390f9-fdd5-41c5-b1b9-cc01223e851f",
   "metadata": {},
   "source": [
    "# Gradient boosting for regression"
   ]
  },
  {
   "cell_type": "markdown",
   "id": "44bb0c2c-a8eb-4d92-bb62-be699b5cc398",
   "metadata": {},
   "source": [
    "## Background\n",
    "\n",
    "**References**\n",
    "1. Practical Statistics for Data Scientists, Andrew Bruce & Peter Gedeck\n",
    "2. https://stanford.edu/~shervine/teaching/cs-229/cheatsheet-supervised-learning#tree\n",
    "3. https://www.cs.cornell.edu/courses/cs4780/2018fa/lectures/lecturenote19.html\n",
    "4. https://ocw.mit.edu/courses/6-034-artificial-intelligence-fall-2010/resources/lecture-17-learning-boosting/\n",
    "5. https://scikit-learn.org/stable/modules/ensemble.html#gradient-boosted-trees\n",
    "6. https://xgboost.ai/"
   ]
  },
  {
   "cell_type": "markdown",
   "id": "ed8c5743-c773-4762-89e7-36c139c81783",
   "metadata": {},
   "source": [
    "* https://xgboost.readthedocs.io/en/stable/get_started.html\n",
    "* https://xgboost.readthedocs.io/en/stable/tutorials/model.html\n",
    "* https://xgboost.readthedocs.io/en/stable/python/python_api.html"
   ]
  },
  {
   "cell_type": "markdown",
   "id": "b8a8873c-c499-4c57-b5a3-7124d98bb52c",
   "metadata": {},
   "source": [
    "## Model training"
   ]
  },
  {
   "cell_type": "code",
   "execution_count": null,
   "id": "8e6dda33-c425-4479-9e0c-efabccfd46e1",
   "metadata": {},
   "outputs": [],
   "source": [
    "X_train, y_train = train_df.loc[:, (train_df.columns != 'price') & (train_df.columns != 'price')], train_df.loc[:, train_df.columns == 'price']"
   ]
  },
  {
   "cell_type": "code",
   "execution_count": null,
   "id": "66349d4d-06d2-454e-832f-ea0e81943ee9",
   "metadata": {},
   "outputs": [],
   "source": [
    "from xgboost import XGBRegressor\n",
    "\n",
    "pipe = Pipeline([('xg', XGBRegressor(random_state=0))])\n",
    "param_grid = {'xg__n_estimators': [50],\n",
    "              'xg__max_depth': [2, 4, 8], # maximum tree depth for base learners.\n",
    "              'xg__max_leaves': [100, 1000, 2000], # maximum number of leaves\n",
    "}\n",
    "\n",
    "search = GridSearchCV(pipe, param_grid, cv=5, scoring='r2')\n",
    "search.fit(X_train, y_train)\n",
    "print(f\"Best parameter (CV score={search.best_score_})\")\n",
    "print(search.best_params_)"
   ]
  },
  {
   "cell_type": "markdown",
   "id": "a94980af-72c7-4c2d-b15e-de3367eee019",
   "metadata": {},
   "source": [
    "## Model evaluation"
   ]
  },
  {
   "cell_type": "code",
   "execution_count": null,
   "id": "450e6057-4b3d-432c-93c1-36c6dd56a906",
   "metadata": {},
   "outputs": [],
   "source": [
    "X_test, y_test = test_df.loc[:, test_df.columns != 'price'], test_df.loc[:, test_df.columns == 'price']"
   ]
  },
  {
   "cell_type": "code",
   "execution_count": null,
   "id": "c33e0f3a-96f1-44a1-bfca-b482d31e6901",
   "metadata": {},
   "outputs": [],
   "source": [
    "xg = XGBRegressor()\n",
    "xg.fit(X_train, y_train)\n",
    "y_pred = xg.predict(X_test)\n",
    "\n",
    "print(f\"R^2: {r2_score(y_test, y_pred)}\")\n",
    "print(f\"MAE: {mean_absolute_error(y_test, y_pred)}\")\n",
    "print(f\"RMSE: {mean_squared_error(y_test, y_pred)}\")"
   ]
  },
  {
   "cell_type": "markdown",
   "id": "76b390c5-21d8-430a-92c6-a4b415e176a1",
   "metadata": {},
   "source": [
    "**Test set performance**"
   ]
  },
  {
   "cell_type": "code",
   "execution_count": null,
   "id": "244287b7-dd42-43c7-8969-5ae3bf59641e",
   "metadata": {},
   "outputs": [],
   "source": [
    "fig, axes = plt.subplots(nrows=1, ncols=1, constrained_layout=True, figsize=(6.4/1.5, 4.8/1.5))\n",
    "axes.tick_params(bottom=False, left=False)\n",
    "axes.grid(False)\n",
    "axes.spines[['top', 'right']].set_visible(False)\n",
    "axes.spines[['left', 'bottom']].set_color('dimgray')\n",
    "\n",
    "axes.scatter(y_test, y_pred, color='dimgray', alpha=0.1, label='Pred')\n",
    "axes.plot(y_test, y_test, color='red', label='Actual')\n",
    "axes.set_xlabel('Actual price', fontsize=10, color='dimgray')\n",
    "axes.set_ylabel('Predicted price', fontsize=10, color='dimgray')\n",
    "axes.legend();"
   ]
  },
  {
   "cell_type": "markdown",
   "id": "3df851f7-f38d-4783-b3a3-c7a5438993f9",
   "metadata": {},
   "source": [
    "## Conclusion"
   ]
  },
  {
   "cell_type": "markdown",
   "id": "7b9b54d0-b8d8-45e5-9bed-c83d517038a4",
   "metadata": {},
   "source": [
    "# Polynomial regression"
   ]
  },
  {
   "cell_type": "markdown",
   "id": "e6ab1781-3367-4368-964a-d0f31562149a",
   "metadata": {},
   "source": [
    "## Background"
   ]
  },
  {
   "cell_type": "markdown",
   "id": "8e2bb863-c8d3-4dca-9f55-f5b42673195b",
   "metadata": {},
   "source": [
    "**References**\n",
    "1. Practical Statistics for Data Scientists, Andrew Bruce & Peter Gedeck\n",
    "2. https://scikit-learn.org/stable/modules/preprocessing.html#polynomial-features"
   ]
  },
  {
   "cell_type": "markdown",
   "id": "61b7dd0b-42e5-4da7-a958-0a23b311f8b5",
   "metadata": {},
   "source": [
    "## Model training"
   ]
  },
  {
   "cell_type": "markdown",
   "id": "d8cd2374-2899-46de-a347-640004be1ada",
   "metadata": {},
   "source": [
    "## Model evaluation"
   ]
  },
  {
   "cell_type": "markdown",
   "id": "9ae6d8fb-93c2-4324-861d-89273e0515bf",
   "metadata": {},
   "source": [
    "## Conclusion"
   ]
  }
 ],
 "metadata": {
  "kernelspec": {
   "display_name": "topic_analyses",
   "language": "python",
   "name": "topic_analyses"
  },
  "language_info": {
   "codemirror_mode": {
    "name": "ipython",
    "version": 3
   },
   "file_extension": ".py",
   "mimetype": "text/x-python",
   "name": "python",
   "nbconvert_exporter": "python",
   "pygments_lexer": "ipython3",
   "version": "3.11.5"
  }
 },
 "nbformat": 4,
 "nbformat_minor": 5
}
