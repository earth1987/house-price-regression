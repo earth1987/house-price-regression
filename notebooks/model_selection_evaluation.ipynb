{
 "cells": [
  {
   "cell_type": "markdown",
   "id": "8e553edd-59c2-4b92-8de5-6a72248c72cc",
   "metadata": {},
   "source": [
    "# Predicting house prices\n",
    "\n",
    "**Why?**"
   ]
  },
  {
   "cell_type": "markdown",
   "id": "76f46803-8aa3-4109-8865-69e0191d8717",
   "metadata": {},
   "source": [
    "# Scope\n",
    "\n",
    "The dataset has been downloaded from [Kaggle](https://www.kaggle.com/datasets/harlfoxem/housesalesprediction/data)"
   ]
  },
  {
   "cell_type": "markdown",
   "id": "bb6103c6-a88d-411f-925e-d831aa8bcd7f",
   "metadata": {},
   "source": [
    "## About the data"
   ]
  },
  {
   "cell_type": "markdown",
   "id": "03a1f33b-c3e1-4695-9ebc-9648ab1e8fb9",
   "metadata": {},
   "source": [
    "# Model selection\n",
    "***Key observations***"
   ]
  },
  {
   "cell_type": "markdown",
   "id": "18bf193a-9c49-48b5-8f8d-d01e879cf231",
   "metadata": {},
   "source": [
    "## Train/test split\n",
    "***Key observations***"
   ]
  },
  {
   "cell_type": "markdown",
   "id": "6dd0a194-7c03-47ce-8d08-f296af784355",
   "metadata": {},
   "source": [
    "## Ordinary least squares\n",
    "***Key observations***"
   ]
  },
  {
   "cell_type": "markdown",
   "id": "5a12657a-90b3-44d6-aea1-2a96a16ee6ef",
   "metadata": {},
   "source": [
    "## Polynomial regression\n",
    "***Key observations***"
   ]
  },
  {
   "cell_type": "markdown",
   "id": "2197d4a5-d9bd-4812-86e8-1a5e6dd26527",
   "metadata": {},
   "source": [
    "## Regularisation\n",
    "***Key observations***"
   ]
  }
 ],
 "metadata": {
  "kernelspec": {
   "display_name": "topic_analyses",
   "language": "python",
   "name": "topic_analyses"
  },
  "language_info": {
   "codemirror_mode": {
    "name": "ipython",
    "version": 3
   },
   "file_extension": ".py",
   "mimetype": "text/x-python",
   "name": "python",
   "nbconvert_exporter": "python",
   "pygments_lexer": "ipython3",
   "version": "3.11.5"
  }
 },
 "nbformat": 4,
 "nbformat_minor": 5
}
